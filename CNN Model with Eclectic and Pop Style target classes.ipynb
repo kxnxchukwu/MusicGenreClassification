{
 "cells": [
  {
   "cell_type": "markdown",
   "metadata": {
    "id": "Aq4Elv70Q_Cx"
   },
   "source": [
    "## Import Libraries"
   ]
  },
  {
   "cell_type": "code",
   "execution_count": 1,
   "metadata": {
    "id": "oHSrmFo85hPr"
   },
   "outputs": [],
   "source": [
    "import os\n",
    "import librosa\n",
    "import pandas as pd\n",
    "import numpy as np\n",
    "import seaborn as sns\n",
    "import matplotlib.pyplot as plt\n",
    "from sklearn.model_selection import train_test_split\n",
    "from sklearn.metrics import confusion_matrix\n",
    "from tensorflow.python.keras.models import Sequential\n",
    "from tensorflow.python.keras.layers import Dense, Dropout, Flatten, Conv2D, MaxPooling2D\n",
    "from tensorflow.python.keras import utils\n",
    "from keras.utils import to_categorical\n",
    "from numpy import load"
   ]
  },
  {
   "cell_type": "code",
   "execution_count": 3,
   "metadata": {
    "id": "FDG37088Q_Cx"
   },
   "outputs": [],
   "source": [
    "# load Spectrogam array\n",
    "X = load('Data/b_mel_specs.npy')"
   ]
  },
  {
   "cell_type": "code",
   "execution_count": 4,
   "metadata": {
    "id": "sqyv0F9SQ_Cx"
   },
   "outputs": [],
   "source": [
    "# load Labels array\n",
    "y = load('Data/b_labels.npy')"
   ]
  },
  {
   "cell_type": "markdown",
   "metadata": {
    "id": "dVDIsvXGQ_Cx"
   },
   "source": [
    "#### Train test split"
   ]
  },
  {
   "cell_type": "code",
   "execution_count": 5,
   "metadata": {
    "id": "VnVIhzTs8Pfk"
   },
   "outputs": [],
   "source": [
    "X_train, X_test, y_train, y_test = train_test_split(X, y, random_state=42, stratify=y, test_size=.2)"
   ]
  },
  {
   "cell_type": "code",
   "execution_count": 6,
   "metadata": {
    "colab": {
     "base_uri": "https://localhost:8080/"
    },
    "id": "kjjxjrFoQ_Cx",
    "outputId": "76c02e36-9374-4231-d2d9-1a08a309a3f3"
   },
   "outputs": [
    {
     "data": {
      "text/plain": [
       "(200, 128, 660)"
      ]
     },
     "execution_count": 6,
     "metadata": {
      "tags": []
     },
     "output_type": "execute_result"
    }
   ],
   "source": [
    "X_test.shape"
   ]
  },
  {
   "cell_type": "code",
   "execution_count": 7,
   "metadata": {
    "colab": {
     "base_uri": "https://localhost:8080/"
    },
    "id": "29zQ5aRPQ_Cy",
    "outputId": "f72f757a-65b5-4445-d561-406be3d881c1"
   },
   "outputs": [
    {
     "data": {
      "text/plain": [
       "(799, 128, 660)"
      ]
     },
     "execution_count": 7,
     "metadata": {
      "tags": []
     },
     "output_type": "execute_result"
    }
   ],
   "source": [
    "X_train.shape"
   ]
  },
  {
   "cell_type": "markdown",
   "metadata": {
    "id": "QSlAEAfEQ_Cy"
   },
   "source": [
    "#### Reshaping images to be 128 x 660 x 1, where the 1 represents the single color channel"
   ]
  },
  {
   "cell_type": "code",
   "execution_count": 8,
   "metadata": {
    "id": "1kMFpuHg8YoU"
   },
   "outputs": [],
   "source": [
    "X_train = X_train.reshape(X_train.shape[0], 128, 660, 1)\n",
    "X_test = X_test.reshape(X_test.shape[0], 128, 660, 1)"
   ]
  },
  {
   "cell_type": "markdown",
   "metadata": {
    "id": "Jc4THvNpQ_Cy"
   },
   "source": [
    "#### One hot encoding our labels"
   ]
  },
  {
   "cell_type": "code",
   "execution_count": 9,
   "metadata": {
    "id": "sv3exWT18ZxC"
   },
   "outputs": [],
   "source": [
    "y_train = to_categorical(y_train, 2)\n",
    "y_test = to_categorical(y_test, 2)"
   ]
  },
  {
   "cell_type": "markdown",
   "metadata": {
    "id": "VaNAh-efQ_Cy"
   },
   "source": [
    "### Define the Convolutional Neural Network Model"
   ]
  },
  {
   "cell_type": "code",
   "execution_count": 10,
   "metadata": {
    "id": "2e6jC60L868w"
   },
   "outputs": [],
   "source": [
    "model = Sequential(name='CNN')\n",
    "model.add(Conv2D(32, (3, 3), activation='relu', input_shape=(128, 660, 1)))\n",
    "model.add(MaxPooling2D(pool_size=(2,4)))\n",
    "model.add(Conv2D(64, (3, 3), activation='relu'))\n",
    "model.add(MaxPooling2D(pool_size=(2,4)))\n",
    "model.add(Flatten())\n",
    "model.add(Dense(64, activation='relu'))\n",
    "model.add(Dense(2, activation='softmax'))"
   ]
  },
  {
   "cell_type": "markdown",
   "metadata": {
    "id": "NQ9yM6mgQ_Cy"
   },
   "source": [
    "### Compile the Model"
   ]
  },
  {
   "cell_type": "code",
   "execution_count": 11,
   "metadata": {
    "id": "tIAL78b18lPj"
   },
   "outputs": [],
   "source": [
    "model.compile(loss='categorical_crossentropy', optimizer='adam', metrics=['accuracy'])"
   ]
  },
  {
   "cell_type": "markdown",
   "metadata": {
    "id": "9vBUOLQyQ_Cy"
   },
   "source": [
    "### Model Summary"
   ]
  },
  {
   "cell_type": "code",
   "execution_count": 12,
   "metadata": {
    "colab": {
     "base_uri": "https://localhost:8080/"
    },
    "id": "SC0Pb6IYQ_Cy",
    "outputId": "acbd1db4-973b-4a1d-ce01-347d85b7d3b5"
   },
   "outputs": [
    {
     "name": "stdout",
     "output_type": "stream",
     "text": [
      "Model: \"CNN\"\n",
      "_________________________________________________________________\n",
      "Layer (type)                 Output Shape              Param #   \n",
      "=================================================================\n",
      "conv2d (Conv2D)              (None, 126, 658, 32)      320       \n",
      "_________________________________________________________________\n",
      "max_pooling2d (MaxPooling2D) (None, 63, 164, 32)       0         \n",
      "_________________________________________________________________\n",
      "conv2d_1 (Conv2D)            (None, 61, 162, 64)       18496     \n",
      "_________________________________________________________________\n",
      "max_pooling2d_1 (MaxPooling2 (None, 30, 40, 64)        0         \n",
      "_________________________________________________________________\n",
      "flatten (Flatten)            (None, 76800)             0         \n",
      "_________________________________________________________________\n",
      "dense (Dense)                (None, 64)                4915264   \n",
      "_________________________________________________________________\n",
      "dense_1 (Dense)              (None, 2)                 130       \n",
      "=================================================================\n",
      "Total params: 4,934,210\n",
      "Trainable params: 4,934,210\n",
      "Non-trainable params: 0\n",
      "_________________________________________________________________\n"
     ]
    }
   ],
   "source": [
    "model.summary()"
   ]
  },
  {
   "cell_type": "markdown",
   "metadata": {
    "id": "CB9oWk_RQ_Cy"
   },
   "source": [
    "### Train the model"
   ]
  },
  {
   "cell_type": "code",
   "execution_count": 13,
   "metadata": {
    "colab": {
     "base_uri": "https://localhost:8080/"
    },
    "id": "Ek8U1lb59dX7",
    "outputId": "a7d6f71e-06b3-422c-aeb6-75eccabc09a8"
   },
   "outputs": [
    {
     "name": "stdout",
     "output_type": "stream",
     "text": [
      "Epoch 1/25\n",
      " 2/25 [=>............................] - ETA: 0s - loss: 264.6947 - accuracy: 0.3750WARNING:tensorflow:Callbacks method `on_train_batch_end` is slow compared to the batch time (batch time: 0.0284s vs `on_train_batch_end` time: 0.0435s). Check your callbacks.\n",
      "25/25 [==============================] - 3s 102ms/step - loss: 45.2931 - accuracy: 0.6020 - val_loss: 0.4773 - val_accuracy: 0.8000\n",
      "Epoch 2/25\n",
      "25/25 [==============================] - 2s 76ms/step - loss: 0.4905 - accuracy: 0.7847 - val_loss: 0.4135 - val_accuracy: 0.8200\n",
      "Epoch 3/25\n",
      "25/25 [==============================] - 2s 78ms/step - loss: 0.3923 - accuracy: 0.8473 - val_loss: 0.4208 - val_accuracy: 0.8100\n",
      "Epoch 4/25\n",
      "25/25 [==============================] - 2s 77ms/step - loss: 0.3381 - accuracy: 0.8711 - val_loss: 0.4054 - val_accuracy: 0.8300\n",
      "Epoch 5/25\n",
      "25/25 [==============================] - 2s 77ms/step - loss: 0.2705 - accuracy: 0.8974 - val_loss: 0.4435 - val_accuracy: 0.8250\n",
      "Epoch 6/25\n",
      "25/25 [==============================] - 2s 79ms/step - loss: 0.1874 - accuracy: 0.9262 - val_loss: 0.3633 - val_accuracy: 0.8400\n",
      "Epoch 7/25\n",
      "25/25 [==============================] - 2s 78ms/step - loss: 0.1941 - accuracy: 0.9274 - val_loss: 0.3914 - val_accuracy: 0.8050\n",
      "Epoch 8/25\n",
      "25/25 [==============================] - 2s 78ms/step - loss: 0.1013 - accuracy: 0.9712 - val_loss: 0.4226 - val_accuracy: 0.8100\n",
      "Epoch 9/25\n",
      "25/25 [==============================] - 2s 78ms/step - loss: 0.0890 - accuracy: 0.9787 - val_loss: 0.6386 - val_accuracy: 0.8450\n",
      "Epoch 10/25\n",
      "25/25 [==============================] - 2s 77ms/step - loss: 0.0726 - accuracy: 0.9737 - val_loss: 0.4692 - val_accuracy: 0.8100\n",
      "Epoch 11/25\n",
      "25/25 [==============================] - 2s 77ms/step - loss: 0.0508 - accuracy: 0.9887 - val_loss: 0.6246 - val_accuracy: 0.8300\n",
      "Epoch 12/25\n",
      "25/25 [==============================] - 2s 77ms/step - loss: 0.0179 - accuracy: 0.9962 - val_loss: 0.6595 - val_accuracy: 0.8050\n",
      "Epoch 13/25\n",
      "25/25 [==============================] - 2s 78ms/step - loss: 0.0094 - accuracy: 1.0000 - val_loss: 0.7985 - val_accuracy: 0.8200\n",
      "Epoch 14/25\n",
      "25/25 [==============================] - 2s 77ms/step - loss: 0.0029 - accuracy: 1.0000 - val_loss: 0.8806 - val_accuracy: 0.8250\n",
      "Epoch 15/25\n",
      "25/25 [==============================] - 2s 77ms/step - loss: 0.0015 - accuracy: 1.0000 - val_loss: 0.8918 - val_accuracy: 0.8300\n",
      "Epoch 16/25\n",
      "25/25 [==============================] - 2s 77ms/step - loss: 0.0014 - accuracy: 1.0000 - val_loss: 0.9187 - val_accuracy: 0.8350\n",
      "Epoch 17/25\n",
      "25/25 [==============================] - 2s 77ms/step - loss: 0.0010 - accuracy: 1.0000 - val_loss: 0.9429 - val_accuracy: 0.8350\n",
      "Epoch 18/25\n",
      "25/25 [==============================] - 2s 78ms/step - loss: 6.3361e-04 - accuracy: 1.0000 - val_loss: 0.9383 - val_accuracy: 0.8300\n",
      "Epoch 19/25\n",
      "25/25 [==============================] - 2s 78ms/step - loss: 5.1513e-04 - accuracy: 1.0000 - val_loss: 0.9368 - val_accuracy: 0.8400\n",
      "Epoch 20/25\n",
      "25/25 [==============================] - 2s 77ms/step - loss: 3.8788e-04 - accuracy: 1.0000 - val_loss: 0.9370 - val_accuracy: 0.8400\n",
      "Epoch 21/25\n",
      "25/25 [==============================] - 2s 77ms/step - loss: 3.1307e-04 - accuracy: 1.0000 - val_loss: 0.9427 - val_accuracy: 0.8350\n",
      "Epoch 22/25\n",
      "25/25 [==============================] - 2s 77ms/step - loss: 2.4498e-04 - accuracy: 1.0000 - val_loss: 0.9438 - val_accuracy: 0.8450\n",
      "Epoch 23/25\n",
      "25/25 [==============================] - 2s 77ms/step - loss: 1.8748e-04 - accuracy: 1.0000 - val_loss: 0.9471 - val_accuracy: 0.8450\n",
      "Epoch 24/25\n",
      "25/25 [==============================] - 2s 78ms/step - loss: 1.3953e-04 - accuracy: 1.0000 - val_loss: 0.9630 - val_accuracy: 0.8350\n",
      "Epoch 25/25\n",
      "25/25 [==============================] - 2s 77ms/step - loss: 1.0159e-04 - accuracy: 1.0000 - val_loss: 0.9867 - val_accuracy: 0.8350\n"
     ]
    }
   ],
   "source": [
    "history = model.fit(X_train, y_train, batch_size=32, validation_data=(X_test, y_test), epochs=25)"
   ]
  },
  {
   "cell_type": "markdown",
   "metadata": {
    "id": "ZEiAdOl3Q_Cy"
   },
   "source": [
    "### Check the Model's train loss and test loss over epochs."
   ]
  },
  {
   "cell_type": "code",
   "execution_count": 14,
   "metadata": {
    "colab": {
     "base_uri": "https://localhost:8080/",
     "height": 530
    },
    "id": "212KgUfz9qxC",
    "outputId": "d1c8a9eb-90b6-49c5-ee2f-b49a742ba0ee"
   },
   "outputs": [
    {
     "data": {
      "image/png": "[encoded data removed]",
      "text/plain": [
       "<Figure size 864x576 with 1 Axes>"
      ]
     },
     "metadata": {
      "needs_background": "light",
      "tags": []
     },
     "output_type": "display_data"
    }
   ],
   "source": [
    "train_loss = history.history['loss']\n",
    "test_loss = history.history['val_loss']\n",
    "\n",
    "# Set figure size.\n",
    "plt.figure(figsize=(12, 8))\n",
    "\n",
    "# Generate line plot of training, testing loss over epochs.\n",
    "plt.plot(train_loss, label='Training Loss', color='blue')\n",
    "plt.plot(test_loss, label='Testing Loss', color='red')\n",
    "\n",
    "# Set title\n",
    "plt.title('Training and Testing Loss by Epoch', fontsize = 25)\n",
    "plt.xlabel('Epoch', fontsize = 18)\n",
    "plt.ylabel('Categorical Crossentropy', fontsize = 18)\n",
    "plt.xticks(range(1,26), range(1,26))\n",
    "\n",
    "plt.legend(fontsize = 18);"
   ]
  },
  {
   "cell_type": "markdown",
   "metadata": {
    "id": "2PZMHbXPQ_Cz"
   },
   "source": [
    "### Check the Model's train accuracy and test accuracy over epochs."
   ]
  },
  {
   "cell_type": "code",
   "execution_count": 15,
   "metadata": {
    "colab": {
     "base_uri": "https://localhost:8080/",
     "height": 530
    },
    "id": "3thwAu2AQ_Cz",
    "outputId": "88b048cc-5281-4926-cb99-b7cb522772c0"
   },
   "outputs": [
    {
     "data": {
      "image/png": "[encoded data removed]",
      "text/plain": [
       "<Figure size 864x576 with 1 Axes>"
      ]
     },
     "metadata": {
      "needs_background": "light",
      "tags": []
     },
     "output_type": "display_data"
    }
   ],
   "source": [
    "train_loss = history.history['accuracy']\n",
    "test_loss = history.history['val_accuracy']\n",
    "\n",
    "# Set figure size.\n",
    "plt.figure(figsize=(12, 8))\n",
    "\n",
    "# Generate line plot of training, testing loss over epochs.\n",
    "plt.plot(train_loss, label='Training Accuracy', color='blue')\n",
    "plt.plot(test_loss, label='Testing Accuracy', color='red')\n",
    "\n",
    "# Set title\n",
    "plt.title('Training and Testing Accuracy by Epoch', fontsize = 25)\n",
    "plt.xlabel('Epoch', fontsize = 18)\n",
    "plt.ylabel('Accuracy', fontsize = 18)\n",
    "plt.xticks(range(1,26), range(1,26))\n",
    "\n",
    "plt.legend(fontsize = 18);"
   ]
  },
  {
   "cell_type": "markdown",
   "metadata": {
    "id": "Om-N8UVWQ_Cz"
   },
   "source": [
    "### Evaluate the model"
   ]
  },
  {
   "cell_type": "code",
   "execution_count": 16,
   "metadata": {
    "colab": {
     "base_uri": "https://localhost:8080/"
    },
    "id": "bdyMtSYtQ_Cz",
    "outputId": "cfdfc7eb-e46b-441a-ebda-02e699f8035d"
   },
   "outputs": [
    {
     "name": "stdout",
     "output_type": "stream",
     "text": [
      "7/7 - 0s - loss: 0.9867 - accuracy: 0.8350\n"
     ]
    }
   ],
   "source": [
    "test_loss, test_acc = model.evaluate(X_test, y_test, verbose=2)"
   ]
  },
  {
   "cell_type": "code",
   "execution_count": 17,
   "metadata": {
    "colab": {
     "base_uri": "https://localhost:8080/"
    },
    "id": "2QUPxqmWQ_Cz",
    "outputId": "81703bae-daf3-492f-cc1b-e1f068e8574b"
   },
   "outputs": [
    {
     "name": "stdout",
     "output_type": "stream",
     "text": [
      "0.8349999785423279\n"
     ]
    }
   ],
   "source": [
    "print(test_acc)"
   ]
  },
  {
   "cell_type": "markdown",
   "metadata": {
    "id": "ifzDUJSAQ_Cz"
   },
   "source": [
    "### Making predictions with the CNN model"
   ]
  },
  {
   "cell_type": "code",
   "execution_count": 18,
   "metadata": {
    "colab": {
     "base_uri": "https://localhost:8080/"
    },
    "id": "2f_PvMnnQ_Cz",
    "outputId": "915fdf55-15f6-4508-d617-e785d88b0e6a"
   },
   "outputs": [
    {
     "name": "stdout",
     "output_type": "stream",
     "text": [
      "1/7 [===>..........................] - ETA: 0sWARNING:tensorflow:Callbacks method `on_predict_batch_end` is slow compared to the batch time (batch time: 0.0051s vs `on_predict_batch_end` time: 0.0198s). Check your callbacks.\n",
      "7/7 [==============================] - 0s 22ms/step\n"
     ]
    }
   ],
   "source": [
    "predictions = model.predict(X_test, verbose=1)"
   ]
  },
  {
   "cell_type": "markdown",
   "metadata": {
    "id": "u3Xug0mwQ_Cz"
   },
   "source": [
    "### CNN Confusion Matrix"
   ]
  },
  {
   "cell_type": "code",
   "execution_count": 19,
   "metadata": {
    "colab": {
     "base_uri": "https://localhost:8080/"
    },
    "id": "qlkf-FyyQ_Cz",
    "outputId": "1b9a8575-9a04-451a-8d0c-8fe544ffb00b"
   },
   "outputs": [
    {
     "data": {
      "text/plain": [
       "array([[ 43,  17],\n",
       "       [ 16, 124]])"
      ]
     },
     "execution_count": 19,
     "metadata": {
      "tags": []
     },
     "output_type": "execute_result"
    }
   ],
   "source": [
    "conf_matrix = confusion_matrix(np.argmax(y_test, 1), np.argmax(predictions, 1))\n",
    "conf_matrix"
   ]
  },
  {
   "cell_type": "code",
   "execution_count": 20,
   "metadata": {
    "colab": {
     "base_uri": "https://localhost:8080/",
     "height": 111
    },
    "id": "Zf0dmBsHQ_Cz",
    "outputId": "1d1d145a-e455-4e70-e6cf-0152672c2045"
   },
   "outputs": [
    {
     "data": {
      "text/html": [
       "<div>\n",
       "<style scoped>\n",
       "    .dataframe tbody tr th:only-of-type {\n",
       "        vertical-align: middle;\n",
       "    }\n",
       "\n",
       "    .dataframe tbody tr th {\n",
       "        vertical-align: top;\n",
       "    }\n",
       "\n",
       "    .dataframe thead th {\n",
       "        text-align: right;\n",
       "    }\n",
       "</style>\n",
       "<table border=\"1\" class=\"dataframe\">\n",
       "  <thead>\n",
       "    <tr style=\"text-align: right;\">\n",
       "      <th></th>\n",
       "      <th>0</th>\n",
       "      <th>1</th>\n",
       "    </tr>\n",
       "  </thead>\n",
       "  <tbody>\n",
       "    <tr>\n",
       "      <th>0</th>\n",
       "      <td>43</td>\n",
       "      <td>17</td>\n",
       "    </tr>\n",
       "    <tr>\n",
       "      <th>1</th>\n",
       "      <td>16</td>\n",
       "      <td>124</td>\n",
       "    </tr>\n",
       "  </tbody>\n",
       "</table>\n",
       "</div>"
      ],
      "text/plain": [
       "    0    1\n",
       "0  43   17\n",
       "1  16  124"
      ]
     },
     "execution_count": 20,
     "metadata": {
      "tags": []
     },
     "output_type": "execute_result"
    }
   ],
   "source": [
    "confusion_df = pd.DataFrame(conf_matrix)\n",
    "confusion_df"
   ]
  },
  {
   "cell_type": "markdown",
   "metadata": {
    "id": "Wg0zoKi6Q_C0"
   },
   "source": [
    "#### Matching the Encoded Labels "
   ]
  },
  {
   "cell_type": "code",
   "execution_count": 21,
   "metadata": {
    "id": "m8u5-vh4Q_C0"
   },
   "outputs": [],
   "source": [
    "labels_dict = {\n",
    "        0 : 'eclectic',\n",
    "        1 : 'pop style',\n",
    "    }"
   ]
  },
  {
   "cell_type": "code",
   "execution_count": 22,
   "metadata": {
    "id": "bic6EAgoQ_C0"
   },
   "outputs": [],
   "source": [
    "confusion_df = confusion_df.rename(columns=labels_dict, index=labels_dict)"
   ]
  },
  {
   "cell_type": "code",
   "execution_count": 23,
   "metadata": {
    "colab": {
     "base_uri": "https://localhost:8080/",
     "height": 111
    },
    "id": "W3beLXvxQ_C0",
    "outputId": "2bc9f520-ea83-4c1f-c00a-df3a3980658c"
   },
   "outputs": [
    {
     "data": {
      "text/html": [
       "<div>\n",
       "<style scoped>\n",
       "    .dataframe tbody tr th:only-of-type {\n",
       "        vertical-align: middle;\n",
       "    }\n",
       "\n",
       "    .dataframe tbody tr th {\n",
       "        vertical-align: top;\n",
       "    }\n",
       "\n",
       "    .dataframe thead th {\n",
       "        text-align: right;\n",
       "    }\n",
       "</style>\n",
       "<table border=\"1\" class=\"dataframe\">\n",
       "  <thead>\n",
       "    <tr style=\"text-align: right;\">\n",
       "      <th></th>\n",
       "      <th>eclectic</th>\n",
       "      <th>pop style</th>\n",
       "    </tr>\n",
       "  </thead>\n",
       "  <tbody>\n",
       "    <tr>\n",
       "      <th>eclectic</th>\n",
       "      <td>43</td>\n",
       "      <td>17</td>\n",
       "    </tr>\n",
       "    <tr>\n",
       "      <th>pop style</th>\n",
       "      <td>16</td>\n",
       "      <td>124</td>\n",
       "    </tr>\n",
       "  </tbody>\n",
       "</table>\n",
       "</div>"
      ],
      "text/plain": [
       "           eclectic  pop style\n",
       "eclectic         43         17\n",
       "pop style        16        124"
      ]
     },
     "execution_count": 23,
     "metadata": {
      "tags": []
     },
     "output_type": "execute_result"
    }
   ],
   "source": [
    "confusion_df"
   ]
  },
  {
   "cell_type": "markdown",
   "metadata": {
    "id": "2r-ang0AQ_C0"
   },
   "source": [
    "#### Creating a heatmap for the confusion matrix for display"
   ]
  },
  {
   "cell_type": "code",
   "execution_count": 24,
   "metadata": {
    "colab": {
     "base_uri": "https://localhost:8080/",
     "height": 904
    },
    "id": "ucqU3uT5Q_C0",
    "outputId": "46b0c665-b337-409e-80f4-778216c95d34"
   },
   "outputs": [
    {
     "data": {
      "image/png": "[encoded data removed]",
      "text/plain": [
       "<Figure size 1440x1080 with 2 Axes>"
      ]
     },
     "metadata": {
      "needs_background": "light",
      "tags": []
     },
     "output_type": "display_data"
    }
   ],
   "source": [
    "plt.figure(figsize= (20,15))\n",
    "sns.set(font_scale = 2);\n",
    "ax = sns.heatmap(confusion_df, annot=True, fmt=\"d\", cmap=sns.cubehelix_palette(rot=-.4));\n",
    "ax.set(xlabel='Predicted Values', ylabel='Actual Values');"
   ]
  },
  {
   "cell_type": "code",
   "execution_count": 25,
   "metadata": {
    "colab": {
     "base_uri": "https://localhost:8080/"
    },
    "id": "elW9degIQ_C0",
    "outputId": "47c491fd-84cd-449b-d442-e25e08a0ae16"
   },
   "outputs": [
    {
     "name": "stdout",
     "output_type": "stream",
     "text": [
      "              precision    recall  f1-score   support\n",
      "\n",
      "           0       0.73      0.72      0.72        60\n",
      "           1       0.88      0.89      0.88       140\n",
      "\n",
      "    accuracy                           0.83       200\n",
      "   macro avg       0.80      0.80      0.80       200\n",
      "weighted avg       0.83      0.83      0.83       200\n",
      "\n"
     ]
    }
   ],
   "source": [
    "from sklearn.metrics import classification_report\n",
    "\n",
    "print(classification_report(np.argmax(y_test, 1),  np.argmax(predictions, 1)))"
   ]
  }
 ],
 "metadata": {
  "accelerator": "GPU",
  "colab": {
   "name": "CNN Model with Eclectic and Pop Style target classes.ipynb",
   "provenance": []
  },
  "kernelspec": {
   "display_name": "Python 3",
   "language": "python",
   "name": "python3"
  },
  "language_info": {
   "codemirror_mode": {
    "name": "ipython",
    "version": 3
   },
   "file_extension": ".py",
   "mimetype": "text/x-python",
   "name": "python",
   "nbconvert_exporter": "python",
   "pygments_lexer": "ipython3",
   "version": "3.7.6"
  }
 },
 "nbformat": 4,
 "nbformat_minor": 1
}
