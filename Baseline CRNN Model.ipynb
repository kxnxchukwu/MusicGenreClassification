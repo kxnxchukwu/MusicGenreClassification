{
 "cells": [
  {
   "cell_type": "markdown",
   "metadata": {
    "id": "pfSd7MOC_-xP"
   },
   "source": [
    "## Import Libraries"
   ]
  },
  {
   "cell_type": "code",
   "execution_count": 26,
   "metadata": {
    "executionInfo": {
     "elapsed": 760,
     "status": "ok",
     "timestamp": 1607292835329,
     "user": {
      "displayName": "Kenechukwu Ajufo",
      "photoUrl": "https://lh3.googleusercontent.com/a-/AOh14GiFsWqmH7rgq2-lVe-s7VVphDU-dx8XVe09wull=s64",
      "userId": "13190776831265122275"
     },
     "user_tz": 0
    },
    "id": "oHSrmFo85hPr"
   },
   "outputs": [],
   "source": [
    "import os\n",
    "import librosa\n",
    "import pandas as pd\n",
    "import numpy as np\n",
    "import seaborn as sns\n",
    "import matplotlib.pyplot as plt\n",
    "import tensorflow as tf\n",
    "from sklearn.model_selection import train_test_split\n",
    "from sklearn.metrics import confusion_matrix\n",
    "from tensorflow.python.keras.models import Sequential\n",
    "from tensorflow.python.keras.layers import Dense, Dropout, Conv2D, MaxPooling2D, GRU, BatchNormalization, Reshape\n",
    "from tensorflow.python.keras import utils\n",
    "from keras.utils import to_categorical\n",
    "from numpy import load"
   ]
  },
  {
   "cell_type": "markdown",
   "metadata": {
    "id": "cDD9u8CH_-xP"
   },
   "source": [
    "### Load Spectrogram and Label Numpy Array from npy file"
   ]
  },
  {
   "cell_type": "code",
   "execution_count": 27,
   "metadata": {
    "executionInfo": {
     "elapsed": 792,
     "status": "ok",
     "timestamp": 1607292839054,
     "user": {
      "displayName": "Kenechukwu Ajufo",
      "photoUrl": "https://lh3.googleusercontent.com/a-/AOh14GiFsWqmH7rgq2-lVe-s7VVphDU-dx8XVe09wull=s64",
      "userId": "13190776831265122275"
     },
     "user_tz": 0
    },
    "id": "tJxUFAx65tWL"
   },
   "outputs": [],
   "source": [
    "# load Spectrogam array\n",
    "X = load('Data/mel_specs.npy')"
   ]
  },
  {
   "cell_type": "code",
   "execution_count": 28,
   "metadata": {
    "executionInfo": {
     "elapsed": 836,
     "status": "ok",
     "timestamp": 1607292841263,
     "user": {
      "displayName": "Kenechukwu Ajufo",
      "photoUrl": "https://lh3.googleusercontent.com/a-/AOh14GiFsWqmH7rgq2-lVe-s7VVphDU-dx8XVe09wull=s64",
      "userId": "13190776831265122275"
     },
     "user_tz": 0
    },
    "id": "DMb9uFCn_-xP"
   },
   "outputs": [],
   "source": [
    "# load Labels array\n",
    "y = load('Data/labels.npy')"
   ]
  },
  {
   "cell_type": "markdown",
   "metadata": {
    "id": "Tx5YLzDt_-xP"
   },
   "source": [
    "#### Train test split"
   ]
  },
  {
   "cell_type": "code",
   "execution_count": 5,
   "metadata": {
    "executionInfo": {
     "elapsed": 3184,
     "status": "ok",
     "timestamp": 1607292513501,
     "user": {
      "displayName": "Kenechukwu Ajufo",
      "photoUrl": "https://lh3.googleusercontent.com/a-/AOh14GiFsWqmH7rgq2-lVe-s7VVphDU-dx8XVe09wull=s64",
      "userId": "13190776831265122275"
     },
     "user_tz": 0
    },
    "id": "VnVIhzTs8Pfk"
   },
   "outputs": [],
   "source": [
    "X_train, X_test, y_train, y_test = train_test_split(X, y, random_state=42, stratify=y, test_size=.2)"
   ]
  },
  {
   "cell_type": "code",
   "execution_count": 6,
   "metadata": {
    "colab": {
     "base_uri": "https://localhost:8080/"
    },
    "executionInfo": {
     "elapsed": 3180,
     "status": "ok",
     "timestamp": 1607292513504,
     "user": {
      "displayName": "Kenechukwu Ajufo",
      "photoUrl": "https://lh3.googleusercontent.com/a-/AOh14GiFsWqmH7rgq2-lVe-s7VVphDU-dx8XVe09wull=s64",
      "userId": "13190776831265122275"
     },
     "user_tz": 0
    },
    "id": "xNTXmvMa_-xP",
    "outputId": "10e39cfd-f19c-4311-c378-33bd5c2a6187"
   },
   "outputs": [
    {
     "data": {
      "text/plain": [
       "(200, 128, 660)"
      ]
     },
     "execution_count": 6,
     "metadata": {
      "tags": []
     },
     "output_type": "execute_result"
    }
   ],
   "source": [
    "X_test.shape"
   ]
  },
  {
   "cell_type": "code",
   "execution_count": 7,
   "metadata": {
    "colab": {
     "base_uri": "https://localhost:8080/"
    },
    "executionInfo": {
     "elapsed": 3172,
     "status": "ok",
     "timestamp": 1607292513505,
     "user": {
      "displayName": "Kenechukwu Ajufo",
      "photoUrl": "https://lh3.googleusercontent.com/a-/AOh14GiFsWqmH7rgq2-lVe-s7VVphDU-dx8XVe09wull=s64",
      "userId": "13190776831265122275"
     },
     "user_tz": 0
    },
    "id": "_NRM-VI3_-xQ",
    "outputId": "2053ebd5-dd9f-46bc-f9fc-c7b6cffb3321"
   },
   "outputs": [
    {
     "data": {
      "text/plain": [
       "(799, 128, 660)"
      ]
     },
     "execution_count": 7,
     "metadata": {
      "tags": []
     },
     "output_type": "execute_result"
    }
   ],
   "source": [
    "X_train.shape"
   ]
  },
  {
   "cell_type": "markdown",
   "metadata": {
    "id": "mF3WzTYF_-xQ"
   },
   "source": [
    "#### Reshaping images to be 128 x 660 x 1, where the 1 represents the single color channel"
   ]
  },
  {
   "cell_type": "code",
   "execution_count": 8,
   "metadata": {
    "executionInfo": {
     "elapsed": 3165,
     "status": "ok",
     "timestamp": 1607292513506,
     "user": {
      "displayName": "Kenechukwu Ajufo",
      "photoUrl": "https://lh3.googleusercontent.com/a-/AOh14GiFsWqmH7rgq2-lVe-s7VVphDU-dx8XVe09wull=s64",
      "userId": "13190776831265122275"
     },
     "user_tz": 0
    },
    "id": "1kMFpuHg8YoU"
   },
   "outputs": [],
   "source": [
    "X_train = X_train.reshape(X_train.shape[0], 128, 660, 1)\n",
    "X_test = X_test.reshape(X_test.shape[0], 128, 660, 1)"
   ]
  },
  {
   "cell_type": "markdown",
   "metadata": {
    "id": "K6PVnIll_-xQ"
   },
   "source": [
    "#### One hot encoding our labels"
   ]
  },
  {
   "cell_type": "code",
   "execution_count": 9,
   "metadata": {
    "executionInfo": {
     "elapsed": 3160,
     "status": "ok",
     "timestamp": 1607292513507,
     "user": {
      "displayName": "Kenechukwu Ajufo",
      "photoUrl": "https://lh3.googleusercontent.com/a-/AOh14GiFsWqmH7rgq2-lVe-s7VVphDU-dx8XVe09wull=s64",
      "userId": "13190776831265122275"
     },
     "user_tz": 0
    },
    "id": "sv3exWT18ZxC"
   },
   "outputs": [],
   "source": [
    "y_train = to_categorical(y_train, 10)\n",
    "y_test = to_categorical(y_test, 10)"
   ]
  },
  {
   "cell_type": "markdown",
   "metadata": {
    "id": "qQmto-m8_-xQ"
   },
   "source": [
    "### Define the Convolutional Recurrent Neural Network Model"
   ]
  },
  {
   "cell_type": "code",
   "execution_count": 10,
   "metadata": {
    "executionInfo": {
     "elapsed": 4363,
     "status": "ok",
     "timestamp": 1607292514717,
     "user": {
      "displayName": "Kenechukwu Ajufo",
      "photoUrl": "https://lh3.googleusercontent.com/a-/AOh14GiFsWqmH7rgq2-lVe-s7VVphDU-dx8XVe09wull=s64",
      "userId": "13190776831265122275"
     },
     "user_tz": 0
    },
    "id": "PgJTW1hI_-xQ"
   },
   "outputs": [],
   "source": [
    "model = Sequential(name='CRNN')\n",
    "model.add(Conv2D(64, (3, 3), activation='elu', input_shape=(128, 660, 1)))\n",
    "model.add(BatchNormalization())\n",
    "model.add(MaxPooling2D(pool_size=(2,2)))\n",
    "model.add(Dropout(0.1))\n",
    "model.add(Conv2D(128, (3, 3), activation='elu'))\n",
    "model.add(BatchNormalization())\n",
    "model.add(MaxPooling2D(pool_size=(2,4)))\n",
    "model.add(Dropout(0.1))\n",
    "model.add(Conv2D(128, (3, 3), activation='elu'))\n",
    "model.add(BatchNormalization())\n",
    "model.add(MaxPooling2D(pool_size=(2,4)))\n",
    "model.add(Dropout(0.1))\n",
    "model.add(Conv2D(128, (3, 3), activation='elu'))\n",
    "model.add(BatchNormalization())\n",
    "model.add(MaxPooling2D(pool_size=(2,4)))\n",
    "model.add(Dropout(0.1))\n",
    "resize_shape = model.output_shape[2] * model.output_shape[3]\n",
    "model.add(Reshape((model.output_shape[1], resize_shape)))\n",
    "model.add(GRU(64, return_sequences=True))\n",
    "model.add(GRU(64, return_sequences=False))\n",
    "model.add(Dense(10, activation='softmax')) "
   ]
  },
  {
   "cell_type": "markdown",
   "metadata": {
    "id": "ILZ2Kfh__-xQ"
   },
   "source": [
    "### Compile the Model"
   ]
  },
  {
   "cell_type": "code",
   "execution_count": 11,
   "metadata": {
    "executionInfo": {
     "elapsed": 4362,
     "status": "ok",
     "timestamp": 1607292514723,
     "user": {
      "displayName": "Kenechukwu Ajufo",
      "photoUrl": "https://lh3.googleusercontent.com/a-/AOh14GiFsWqmH7rgq2-lVe-s7VVphDU-dx8XVe09wull=s64",
      "userId": "13190776831265122275"
     },
     "user_tz": 0
    },
    "id": "tIAL78b18lPj"
   },
   "outputs": [],
   "source": [
    "model.compile(loss='categorical_crossentropy', optimizer='adam', metrics=['accuracy'])"
   ]
  },
  {
   "cell_type": "markdown",
   "metadata": {
    "id": "sDGVsf6R_-xQ"
   },
   "source": [
    "### Model Summary"
   ]
  },
  {
   "cell_type": "code",
   "execution_count": 12,
   "metadata": {
    "colab": {
     "base_uri": "https://localhost:8080/"
    },
    "executionInfo": {
     "elapsed": 4353,
     "status": "ok",
     "timestamp": 1607292514724,
     "user": {
      "displayName": "Kenechukwu Ajufo",
      "photoUrl": "https://lh3.googleusercontent.com/a-/AOh14GiFsWqmH7rgq2-lVe-s7VVphDU-dx8XVe09wull=s64",
      "userId": "13190776831265122275"
     },
     "user_tz": 0
    },
    "id": "UAQXHC0h_-xQ",
    "outputId": "6eac45bf-9af5-423d-f0c8-1fb6b1d8c21c"
   },
   "outputs": [
    {
     "name": "stdout",
     "output_type": "stream",
     "text": [
      "Model: \"CRNN\"\n",
      "_________________________________________________________________\n",
      "Layer (type)                 Output Shape              Param #   \n",
      "=================================================================\n",
      "conv2d (Conv2D)              (None, 126, 658, 64)      640       \n",
      "_________________________________________________________________\n",
      "batch_normalization (BatchNo (None, 126, 658, 64)      256       \n",
      "_________________________________________________________________\n",
      "max_pooling2d (MaxPooling2D) (None, 63, 329, 64)       0         \n",
      "_________________________________________________________________\n",
      "dropout (Dropout)            (None, 63, 329, 64)       0         \n",
      "_________________________________________________________________\n",
      "conv2d_1 (Conv2D)            (None, 61, 327, 128)      73856     \n",
      "_________________________________________________________________\n",
      "batch_normalization_1 (Batch (None, 61, 327, 128)      512       \n",
      "_________________________________________________________________\n",
      "max_pooling2d_1 (MaxPooling2 (None, 30, 81, 128)       0         \n",
      "_________________________________________________________________\n",
      "dropout_1 (Dropout)          (None, 30, 81, 128)       0         \n",
      "_________________________________________________________________\n",
      "conv2d_2 (Conv2D)            (None, 28, 79, 128)       147584    \n",
      "_________________________________________________________________\n",
      "batch_normalization_2 (Batch (None, 28, 79, 128)       512       \n",
      "_________________________________________________________________\n",
      "max_pooling2d_2 (MaxPooling2 (None, 14, 19, 128)       0         \n",
      "_________________________________________________________________\n",
      "dropout_2 (Dropout)          (None, 14, 19, 128)       0         \n",
      "_________________________________________________________________\n",
      "conv2d_3 (Conv2D)            (None, 12, 17, 128)       147584    \n",
      "_________________________________________________________________\n",
      "batch_normalization_3 (Batch (None, 12, 17, 128)       512       \n",
      "_________________________________________________________________\n",
      "max_pooling2d_3 (MaxPooling2 (None, 6, 4, 128)         0         \n",
      "_________________________________________________________________\n",
      "dropout_3 (Dropout)          (None, 6, 4, 128)         0         \n",
      "_________________________________________________________________\n",
      "reshape (Reshape)            (None, 6, 512)            0         \n",
      "_________________________________________________________________\n",
      "gru (GRU)                    (None, 6, 64)             110784    \n",
      "_________________________________________________________________\n",
      "gru_1 (GRU)                  (None, 64)                24768     \n",
      "_________________________________________________________________\n",
      "dense (Dense)                (None, 10)                650       \n",
      "=================================================================\n",
      "Total params: 507,658\n",
      "Trainable params: 506,762\n",
      "Non-trainable params: 896\n",
      "_________________________________________________________________\n"
     ]
    }
   ],
   "source": [
    "model.summary()"
   ]
  },
  {
   "cell_type": "markdown",
   "metadata": {
    "id": "2xpBLCUu_-xQ"
   },
   "source": [
    "### Train the model"
   ]
  },
  {
   "cell_type": "code",
   "execution_count": 13,
   "metadata": {
    "colab": {
     "base_uri": "https://localhost:8080/"
    },
    "executionInfo": {
     "elapsed": 178330,
     "status": "ok",
     "timestamp": 1607292688714,
     "user": {
      "displayName": "Kenechukwu Ajufo",
      "photoUrl": "https://lh3.googleusercontent.com/a-/AOh14GiFsWqmH7rgq2-lVe-s7VVphDU-dx8XVe09wull=s64",
      "userId": "13190776831265122275"
     },
     "user_tz": 0
    },
    "id": "Ek8U1lb59dX7",
    "outputId": "08c92703-fdad-4bc2-899e-3687076bc7f1"
   },
   "outputs": [
    {
     "name": "stdout",
     "output_type": "stream",
     "text": [
      "Epoch 1/25\n",
      "40/40 [==============================] - ETA: 0s - loss: 1.9000 - accuracy: 0.3104WARNING:tensorflow:Callbacks method `on_test_batch_end` is slow compared to the batch time (batch time: 0.0078s vs `on_test_batch_end` time: 0.0398s). Check your callbacks.\n",
      "40/40 [==============================] - 8s 191ms/step - loss: 1.9000 - accuracy: 0.3104 - val_loss: 2.5152 - val_accuracy: 0.1800\n",
      "Epoch 2/25\n",
      "40/40 [==============================] - 7s 163ms/step - loss: 1.5038 - accuracy: 0.4681 - val_loss: 2.8418 - val_accuracy: 0.1300\n",
      "Epoch 3/25\n",
      "40/40 [==============================] - 7s 164ms/step - loss: 1.3193 - accuracy: 0.5269 - val_loss: 2.3508 - val_accuracy: 0.1900\n",
      "Epoch 4/25\n",
      "40/40 [==============================] - 7s 165ms/step - loss: 1.2388 - accuracy: 0.5620 - val_loss: 2.0591 - val_accuracy: 0.2900\n",
      "Epoch 5/25\n",
      "40/40 [==============================] - 7s 165ms/step - loss: 1.1212 - accuracy: 0.5982 - val_loss: 2.0360 - val_accuracy: 0.3300\n",
      "Epoch 6/25\n",
      "40/40 [==============================] - 7s 165ms/step - loss: 0.9683 - accuracy: 0.6583 - val_loss: 1.5587 - val_accuracy: 0.4700\n",
      "Epoch 7/25\n",
      "40/40 [==============================] - 7s 164ms/step - loss: 0.8871 - accuracy: 0.6796 - val_loss: 2.1366 - val_accuracy: 0.3350\n",
      "Epoch 8/25\n",
      "40/40 [==============================] - 7s 164ms/step - loss: 0.8060 - accuracy: 0.7434 - val_loss: 1.2043 - val_accuracy: 0.5700\n",
      "Epoch 9/25\n",
      "40/40 [==============================] - 7s 163ms/step - loss: 0.7097 - accuracy: 0.7685 - val_loss: 2.0532 - val_accuracy: 0.3650\n",
      "Epoch 10/25\n",
      "40/40 [==============================] - 7s 163ms/step - loss: 0.6589 - accuracy: 0.7747 - val_loss: 1.9122 - val_accuracy: 0.3950\n",
      "Epoch 11/25\n",
      "40/40 [==============================] - 6s 162ms/step - loss: 0.6415 - accuracy: 0.7697 - val_loss: 1.7728 - val_accuracy: 0.4600\n",
      "Epoch 12/25\n",
      "40/40 [==============================] - 7s 163ms/step - loss: 0.5386 - accuracy: 0.8248 - val_loss: 1.6367 - val_accuracy: 0.5050\n",
      "Epoch 13/25\n",
      "40/40 [==============================] - 7s 163ms/step - loss: 0.4538 - accuracy: 0.8536 - val_loss: 1.5236 - val_accuracy: 0.4950\n",
      "Epoch 14/25\n",
      "40/40 [==============================] - 7s 164ms/step - loss: 0.4684 - accuracy: 0.8448 - val_loss: 1.4490 - val_accuracy: 0.5500\n",
      "Epoch 15/25\n",
      "40/40 [==============================] - 7s 163ms/step - loss: 0.3906 - accuracy: 0.8748 - val_loss: 1.9531 - val_accuracy: 0.4450\n",
      "Epoch 16/25\n",
      "40/40 [==============================] - 7s 164ms/step - loss: 0.3216 - accuracy: 0.8974 - val_loss: 1.0798 - val_accuracy: 0.6500\n",
      "Epoch 17/25\n",
      "40/40 [==============================] - 7s 164ms/step - loss: 0.3084 - accuracy: 0.9011 - val_loss: 2.0339 - val_accuracy: 0.4700\n",
      "Epoch 18/25\n",
      "40/40 [==============================] - 7s 164ms/step - loss: 0.2880 - accuracy: 0.9036 - val_loss: 1.6835 - val_accuracy: 0.4950\n",
      "Epoch 19/25\n",
      "40/40 [==============================] - 7s 165ms/step - loss: 0.2061 - accuracy: 0.9587 - val_loss: 1.5318 - val_accuracy: 0.5550\n",
      "Epoch 20/25\n",
      "40/40 [==============================] - 7s 164ms/step - loss: 0.1783 - accuracy: 0.9362 - val_loss: 1.9883 - val_accuracy: 0.4850\n",
      "Epoch 21/25\n",
      "40/40 [==============================] - 7s 164ms/step - loss: 0.1692 - accuracy: 0.9587 - val_loss: 2.2734 - val_accuracy: 0.4050\n",
      "Epoch 22/25\n",
      "40/40 [==============================] - 7s 163ms/step - loss: 0.2018 - accuracy: 0.9387 - val_loss: 1.3114 - val_accuracy: 0.5850\n",
      "Epoch 23/25\n",
      "40/40 [==============================] - 7s 163ms/step - loss: 0.1898 - accuracy: 0.9399 - val_loss: 1.8977 - val_accuracy: 0.5150\n",
      "Epoch 24/25\n",
      "40/40 [==============================] - 7s 163ms/step - loss: 0.1280 - accuracy: 0.9737 - val_loss: 1.5281 - val_accuracy: 0.5900\n",
      "Epoch 25/25\n",
      "40/40 [==============================] - 7s 164ms/step - loss: 0.1011 - accuracy: 0.9750 - val_loss: 1.1860 - val_accuracy: 0.6600\n"
     ]
    }
   ],
   "source": [
    "history = model.fit(X_train, y_train, batch_size=20, validation_data=(X_test, y_test), epochs=25)"
   ]
  },
  {
   "cell_type": "markdown",
   "metadata": {
    "id": "E6bEkl7r_-xQ"
   },
   "source": [
    "### Check the Model's train loss and test loss over epochs."
   ]
  },
  {
   "cell_type": "code",
   "execution_count": 14,
   "metadata": {
    "colab": {
     "base_uri": "https://localhost:8080/",
     "height": 530
    },
    "executionInfo": {
     "elapsed": 178323,
     "status": "ok",
     "timestamp": 1607292688721,
     "user": {
      "displayName": "Kenechukwu Ajufo",
      "photoUrl": "https://lh3.googleusercontent.com/a-/AOh14GiFsWqmH7rgq2-lVe-s7VVphDU-dx8XVe09wull=s64",
      "userId": "13190776831265122275"
     },
     "user_tz": 0
    },
    "id": "212KgUfz9qxC",
    "outputId": "76e5ee6c-e9d9-493e-86be-8b9516d73617"
   },
   "outputs": [
    {
     "data": {
      "image/png": "[encoded data removed]",
      "text/plain": [
       "<Figure size 864x576 with 1 Axes>"
      ]
     },
     "metadata": {
      "needs_background": "light",
      "tags": []
     },
     "output_type": "display_data"
    }
   ],
   "source": [
    "train_loss = history.history['loss']\n",
    "test_loss = history.history['val_loss']\n",
    "\n",
    "# Set figure size.\n",
    "plt.figure(figsize=(12, 8))\n",
    "\n",
    "# Generate line plot of training, testing loss over epochs.\n",
    "plt.plot(train_loss, label='Training Loss', color='blue')\n",
    "plt.plot(test_loss, label='Testing Loss', color='red')\n",
    "\n",
    "# Set title\n",
    "plt.title('Training and Testing Loss by Epoch', fontsize = 25)\n",
    "plt.xlabel('Epoch', fontsize = 18)\n",
    "plt.ylabel('Categorical Crossentropy', fontsize = 18)\n",
    "plt.xticks(range(1,26), range(1,26))\n",
    "\n",
    "plt.legend(fontsize = 18);"
   ]
  },
  {
   "cell_type": "markdown",
   "metadata": {
    "id": "qCJW6X6X_-xQ"
   },
   "source": [
    "### Check the Model's train accuracy and test accuracy over epochs."
   ]
  },
  {
   "cell_type": "code",
   "execution_count": 15,
   "metadata": {
    "colab": {
     "base_uri": "https://localhost:8080/",
     "height": 530
    },
    "executionInfo": {
     "elapsed": 178694,
     "status": "ok",
     "timestamp": 1607292689107,
     "user": {
      "displayName": "Kenechukwu Ajufo",
      "photoUrl": "https://lh3.googleusercontent.com/a-/AOh14GiFsWqmH7rgq2-lVe-s7VVphDU-dx8XVe09wull=s64",
      "userId": "13190776831265122275"
     },
     "user_tz": 0
    },
    "id": "WdYjkfD7_-xQ",
    "outputId": "3b3b5c02-2ac7-41fb-cc21-95a0438abb1f"
   },
   "outputs": [
    {
     "data": {
      "image/png": "[encoded data removed]",
      "text/plain": [
       "<Figure size 864x576 with 1 Axes>"
      ]
     },
     "metadata": {
      "needs_background": "light",
      "tags": []
     },
     "output_type": "display_data"
    }
   ],
   "source": [
    "train_loss = history.history['accuracy']\n",
    "test_loss = history.history['val_accuracy']\n",
    "\n",
    "# Set figure size.\n",
    "plt.figure(figsize=(12, 8))\n",
    "\n",
    "# Generate line plot of training, testing loss over epochs.\n",
    "plt.plot(train_loss, label='Training Accuracy', color='blue')\n",
    "plt.plot(test_loss, label='Testing Accuracy', color='red')\n",
    "\n",
    "# Set title\n",
    "plt.title('Training and Testing Accuracy by Epoch', fontsize = 25)\n",
    "plt.xlabel('Epoch', fontsize = 18)\n",
    "plt.ylabel('Accuracy', fontsize = 18)\n",
    "plt.xticks(range(1,26), range(1,26))\n",
    "\n",
    "plt.legend(fontsize = 18);"
   ]
  },
  {
   "cell_type": "markdown",
   "metadata": {
    "id": "d7edT91C_-xR"
   },
   "source": [
    "### Evaluate the model"
   ]
  },
  {
   "cell_type": "code",
   "execution_count": 16,
   "metadata": {
    "colab": {
     "base_uri": "https://localhost:8080/"
    },
    "executionInfo": {
     "elapsed": 180307,
     "status": "ok",
     "timestamp": 1607292690741,
     "user": {
      "displayName": "Kenechukwu Ajufo",
      "photoUrl": "https://lh3.googleusercontent.com/a-/AOh14GiFsWqmH7rgq2-lVe-s7VVphDU-dx8XVe09wull=s64",
      "userId": "13190776831265122275"
     },
     "user_tz": 0
    },
    "id": "-E1Ho5Fj_-xR",
    "outputId": "0ee15a70-e6fd-4f6c-daa6-25be48b2f8f3"
   },
   "outputs": [
    {
     "name": "stdout",
     "output_type": "stream",
     "text": [
      "7/7 - 1s - loss: 1.1860 - accuracy: 0.6600\n"
     ]
    }
   ],
   "source": [
    "test_loss, test_acc = model.evaluate(X_test, y_test, verbose=2)"
   ]
  },
  {
   "cell_type": "code",
   "execution_count": 17,
   "metadata": {
    "colab": {
     "base_uri": "https://localhost:8080/"
    },
    "executionInfo": {
     "elapsed": 180290,
     "status": "ok",
     "timestamp": 1607292690744,
     "user": {
      "displayName": "Kenechukwu Ajufo",
      "photoUrl": "https://lh3.googleusercontent.com/a-/AOh14GiFsWqmH7rgq2-lVe-s7VVphDU-dx8XVe09wull=s64",
      "userId": "13190776831265122275"
     },
     "user_tz": 0
    },
    "id": "-DKMWWRA_-xR",
    "outputId": "2f322bba-dca8-47d4-ab58-14aeebe9c432"
   },
   "outputs": [
    {
     "name": "stdout",
     "output_type": "stream",
     "text": [
      "0.6600000262260437\n"
     ]
    }
   ],
   "source": [
    "print(test_acc)"
   ]
  },
  {
   "cell_type": "markdown",
   "metadata": {
    "id": "2YM3oEsI_-xR"
   },
   "source": [
    "### Making predictions with the CRNN model"
   ]
  },
  {
   "cell_type": "code",
   "execution_count": 18,
   "metadata": {
    "colab": {
     "base_uri": "https://localhost:8080/"
    },
    "executionInfo": {
     "elapsed": 181132,
     "status": "ok",
     "timestamp": 1607292691601,
     "user": {
      "displayName": "Kenechukwu Ajufo",
      "photoUrl": "https://lh3.googleusercontent.com/a-/AOh14GiFsWqmH7rgq2-lVe-s7VVphDU-dx8XVe09wull=s64",
      "userId": "13190776831265122275"
     },
     "user_tz": 0
    },
    "id": "98FspLkn_-xR",
    "outputId": "4189d93b-1830-4598-e91d-33fbec6d9411"
   },
   "outputs": [
    {
     "name": "stdout",
     "output_type": "stream",
     "text": [
      "2/7 [=======>......................] - ETA: 0sWARNING:tensorflow:Callbacks method `on_predict_batch_end` is slow compared to the batch time (batch time: 0.0092s vs `on_predict_batch_end` time: 0.0596s). Check your callbacks.\n",
      "7/7 [==============================] - 0s 61ms/step\n"
     ]
    }
   ],
   "source": [
    "predictions = model.predict(X_test, verbose=1)"
   ]
  },
  {
   "cell_type": "markdown",
   "metadata": {
    "id": "Mwlm79Cu_-xR"
   },
   "source": [
    "### CRNN Confusion Matrix"
   ]
  },
  {
   "cell_type": "code",
   "execution_count": 19,
   "metadata": {
    "colab": {
     "base_uri": "https://localhost:8080/"
    },
    "executionInfo": {
     "elapsed": 181120,
     "status": "ok",
     "timestamp": 1607292691603,
     "user": {
      "displayName": "Kenechukwu Ajufo",
      "photoUrl": "https://lh3.googleusercontent.com/a-/AOh14GiFsWqmH7rgq2-lVe-s7VVphDU-dx8XVe09wull=s64",
      "userId": "13190776831265122275"
     },
     "user_tz": 0
    },
    "id": "1ErryBez_-xR",
    "outputId": "c7d64131-d63a-4e31-cbf3-c514b9be3dca"
   },
   "outputs": [
    {
     "data": {
      "text/plain": [
       "array([[15,  0,  0,  1,  1,  1,  0,  0,  1,  1],\n",
       "       [ 0, 20,  0,  0,  0,  0,  0,  0,  0,  0],\n",
       "       [ 2,  5,  6,  0,  0,  1,  0,  0,  0,  6],\n",
       "       [ 0,  1,  0,  7,  3,  0,  0,  5,  0,  4],\n",
       "       [ 0,  0,  0,  1, 18,  0,  0,  1,  0,  0],\n",
       "       [ 3,  3,  3,  0,  0, 10,  0,  1,  0,  0],\n",
       "       [ 1,  0,  0,  1,  1,  0, 14,  0,  0,  3],\n",
       "       [ 0,  0,  1,  1,  1,  0,  0, 15,  1,  1],\n",
       "       [ 0,  0,  0,  2,  1,  0,  0,  4, 11,  2],\n",
       "       [ 1,  0,  2,  0,  0,  0,  0,  1,  0, 16]])"
      ]
     },
     "execution_count": 19,
     "metadata": {
      "tags": []
     },
     "output_type": "execute_result"
    }
   ],
   "source": [
    "conf_matrix = confusion_matrix(np.argmax(y_test, 1), np.argmax(predictions, 1))\n",
    "conf_matrix"
   ]
  },
  {
   "cell_type": "code",
   "execution_count": 20,
   "metadata": {
    "colab": {
     "base_uri": "https://localhost:8080/",
     "height": 359
    },
    "executionInfo": {
     "elapsed": 181110,
     "status": "ok",
     "timestamp": 1607292691605,
     "user": {
      "displayName": "Kenechukwu Ajufo",
      "photoUrl": "https://lh3.googleusercontent.com/a-/AOh14GiFsWqmH7rgq2-lVe-s7VVphDU-dx8XVe09wull=s64",
      "userId": "13190776831265122275"
     },
     "user_tz": 0
    },
    "id": "5tj_OZBn_-xR",
    "outputId": "0375f8b3-dfef-4926-85fe-a3091496152c"
   },
   "outputs": [
    {
     "data": {
      "text/html": [
       "<div>\n",
       "<style scoped>\n",
       "    .dataframe tbody tr th:only-of-type {\n",
       "        vertical-align: middle;\n",
       "    }\n",
       "\n",
       "    .dataframe tbody tr th {\n",
       "        vertical-align: top;\n",
       "    }\n",
       "\n",
       "    .dataframe thead th {\n",
       "        text-align: right;\n",
       "    }\n",
       "</style>\n",
       "<table border=\"1\" class=\"dataframe\">\n",
       "  <thead>\n",
       "    <tr style=\"text-align: right;\">\n",
       "      <th></th>\n",
       "      <th>0</th>\n",
       "      <th>1</th>\n",
       "      <th>2</th>\n",
       "      <th>3</th>\n",
       "      <th>4</th>\n",
       "      <th>5</th>\n",
       "      <th>6</th>\n",
       "      <th>7</th>\n",
       "      <th>8</th>\n",
       "      <th>9</th>\n",
       "    </tr>\n",
       "  </thead>\n",
       "  <tbody>\n",
       "    <tr>\n",
       "      <th>0</th>\n",
       "      <td>15</td>\n",
       "      <td>0</td>\n",
       "      <td>0</td>\n",
       "      <td>1</td>\n",
       "      <td>1</td>\n",
       "      <td>1</td>\n",
       "      <td>0</td>\n",
       "      <td>0</td>\n",
       "      <td>1</td>\n",
       "      <td>1</td>\n",
       "    </tr>\n",
       "    <tr>\n",
       "      <th>1</th>\n",
       "      <td>0</td>\n",
       "      <td>20</td>\n",
       "      <td>0</td>\n",
       "      <td>0</td>\n",
       "      <td>0</td>\n",
       "      <td>0</td>\n",
       "      <td>0</td>\n",
       "      <td>0</td>\n",
       "      <td>0</td>\n",
       "      <td>0</td>\n",
       "    </tr>\n",
       "    <tr>\n",
       "      <th>2</th>\n",
       "      <td>2</td>\n",
       "      <td>5</td>\n",
       "      <td>6</td>\n",
       "      <td>0</td>\n",
       "      <td>0</td>\n",
       "      <td>1</td>\n",
       "      <td>0</td>\n",
       "      <td>0</td>\n",
       "      <td>0</td>\n",
       "      <td>6</td>\n",
       "    </tr>\n",
       "    <tr>\n",
       "      <th>3</th>\n",
       "      <td>0</td>\n",
       "      <td>1</td>\n",
       "      <td>0</td>\n",
       "      <td>7</td>\n",
       "      <td>3</td>\n",
       "      <td>0</td>\n",
       "      <td>0</td>\n",
       "      <td>5</td>\n",
       "      <td>0</td>\n",
       "      <td>4</td>\n",
       "    </tr>\n",
       "    <tr>\n",
       "      <th>4</th>\n",
       "      <td>0</td>\n",
       "      <td>0</td>\n",
       "      <td>0</td>\n",
       "      <td>1</td>\n",
       "      <td>18</td>\n",
       "      <td>0</td>\n",
       "      <td>0</td>\n",
       "      <td>1</td>\n",
       "      <td>0</td>\n",
       "      <td>0</td>\n",
       "    </tr>\n",
       "    <tr>\n",
       "      <th>5</th>\n",
       "      <td>3</td>\n",
       "      <td>3</td>\n",
       "      <td>3</td>\n",
       "      <td>0</td>\n",
       "      <td>0</td>\n",
       "      <td>10</td>\n",
       "      <td>0</td>\n",
       "      <td>1</td>\n",
       "      <td>0</td>\n",
       "      <td>0</td>\n",
       "    </tr>\n",
       "    <tr>\n",
       "      <th>6</th>\n",
       "      <td>1</td>\n",
       "      <td>0</td>\n",
       "      <td>0</td>\n",
       "      <td>1</td>\n",
       "      <td>1</td>\n",
       "      <td>0</td>\n",
       "      <td>14</td>\n",
       "      <td>0</td>\n",
       "      <td>0</td>\n",
       "      <td>3</td>\n",
       "    </tr>\n",
       "    <tr>\n",
       "      <th>7</th>\n",
       "      <td>0</td>\n",
       "      <td>0</td>\n",
       "      <td>1</td>\n",
       "      <td>1</td>\n",
       "      <td>1</td>\n",
       "      <td>0</td>\n",
       "      <td>0</td>\n",
       "      <td>15</td>\n",
       "      <td>1</td>\n",
       "      <td>1</td>\n",
       "    </tr>\n",
       "    <tr>\n",
       "      <th>8</th>\n",
       "      <td>0</td>\n",
       "      <td>0</td>\n",
       "      <td>0</td>\n",
       "      <td>2</td>\n",
       "      <td>1</td>\n",
       "      <td>0</td>\n",
       "      <td>0</td>\n",
       "      <td>4</td>\n",
       "      <td>11</td>\n",
       "      <td>2</td>\n",
       "    </tr>\n",
       "    <tr>\n",
       "      <th>9</th>\n",
       "      <td>1</td>\n",
       "      <td>0</td>\n",
       "      <td>2</td>\n",
       "      <td>0</td>\n",
       "      <td>0</td>\n",
       "      <td>0</td>\n",
       "      <td>0</td>\n",
       "      <td>1</td>\n",
       "      <td>0</td>\n",
       "      <td>16</td>\n",
       "    </tr>\n",
       "  </tbody>\n",
       "</table>\n",
       "</div>"
      ],
      "text/plain": [
       "    0   1  2  3   4   5   6   7   8   9\n",
       "0  15   0  0  1   1   1   0   0   1   1\n",
       "1   0  20  0  0   0   0   0   0   0   0\n",
       "2   2   5  6  0   0   1   0   0   0   6\n",
       "3   0   1  0  7   3   0   0   5   0   4\n",
       "4   0   0  0  1  18   0   0   1   0   0\n",
       "5   3   3  3  0   0  10   0   1   0   0\n",
       "6   1   0  0  1   1   0  14   0   0   3\n",
       "7   0   0  1  1   1   0   0  15   1   1\n",
       "8   0   0  0  2   1   0   0   4  11   2\n",
       "9   1   0  2  0   0   0   0   1   0  16"
      ]
     },
     "execution_count": 20,
     "metadata": {
      "tags": []
     },
     "output_type": "execute_result"
    }
   ],
   "source": [
    "confusion_df = pd.DataFrame(conf_matrix)\n",
    "confusion_df"
   ]
  },
  {
   "cell_type": "markdown",
   "metadata": {
    "id": "ariW5WnU_-xR"
   },
   "source": [
    "#### Matching the Encoded Labels "
   ]
  },
  {
   "cell_type": "code",
   "execution_count": 21,
   "metadata": {
    "executionInfo": {
     "elapsed": 181100,
     "status": "ok",
     "timestamp": 1607292691606,
     "user": {
      "displayName": "Kenechukwu Ajufo",
      "photoUrl": "https://lh3.googleusercontent.com/a-/AOh14GiFsWqmH7rgq2-lVe-s7VVphDU-dx8XVe09wull=s64",
      "userId": "13190776831265122275"
     },
     "user_tz": 0
    },
    "id": "jvVMnqkI_-xR"
   },
   "outputs": [],
   "source": [
    "labels_dict = {\n",
    "        0: 'blues',\n",
    "        1: 'classical',\n",
    "        2: 'country',\n",
    "        3: 'disco',\n",
    "        4: 'hiphop',\n",
    "        5: 'jazz',\n",
    "        6: 'metal',\n",
    "        7: 'pop',\n",
    "        8: 'reggae',\n",
    "        9: 'rock'\n",
    "    }"
   ]
  },
  {
   "cell_type": "code",
   "execution_count": 22,
   "metadata": {
    "executionInfo": {
     "elapsed": 181096,
     "status": "ok",
     "timestamp": 1607292691607,
     "user": {
      "displayName": "Kenechukwu Ajufo",
      "photoUrl": "https://lh3.googleusercontent.com/a-/AOh14GiFsWqmH7rgq2-lVe-s7VVphDU-dx8XVe09wull=s64",
      "userId": "13190776831265122275"
     },
     "user_tz": 0
    },
    "id": "_ZKzHnnL_-xR"
   },
   "outputs": [],
   "source": [
    "confusion_df = confusion_df.rename(columns=labels_dict, index=labels_dict)"
   ]
  },
  {
   "cell_type": "code",
   "execution_count": 23,
   "metadata": {
    "colab": {
     "base_uri": "https://localhost:8080/",
     "height": 359
    },
    "executionInfo": {
     "elapsed": 181087,
     "status": "ok",
     "timestamp": 1607292691608,
     "user": {
      "displayName": "Kenechukwu Ajufo",
      "photoUrl": "https://lh3.googleusercontent.com/a-/AOh14GiFsWqmH7rgq2-lVe-s7VVphDU-dx8XVe09wull=s64",
      "userId": "13190776831265122275"
     },
     "user_tz": 0
    },
    "id": "gJIcco_M_-xR",
    "outputId": "ca365285-900a-4255-a62b-4d59e9513806"
   },
   "outputs": [
    {
     "data": {
      "text/html": [
       "<div>\n",
       "<style scoped>\n",
       "    .dataframe tbody tr th:only-of-type {\n",
       "        vertical-align: middle;\n",
       "    }\n",
       "\n",
       "    .dataframe tbody tr th {\n",
       "        vertical-align: top;\n",
       "    }\n",
       "\n",
       "    .dataframe thead th {\n",
       "        text-align: right;\n",
       "    }\n",
       "</style>\n",
       "<table border=\"1\" class=\"dataframe\">\n",
       "  <thead>\n",
       "    <tr style=\"text-align: right;\">\n",
       "      <th></th>\n",
       "      <th>blues</th>\n",
       "      <th>classical</th>\n",
       "      <th>country</th>\n",
       "      <th>disco</th>\n",
       "      <th>hiphop</th>\n",
       "      <th>jazz</th>\n",
       "      <th>metal</th>\n",
       "      <th>pop</th>\n",
       "      <th>reggae</th>\n",
       "      <th>rock</th>\n",
       "    </tr>\n",
       "  </thead>\n",
       "  <tbody>\n",
       "    <tr>\n",
       "      <th>blues</th>\n",
       "      <td>15</td>\n",
       "      <td>0</td>\n",
       "      <td>0</td>\n",
       "      <td>1</td>\n",
       "      <td>1</td>\n",
       "      <td>1</td>\n",
       "      <td>0</td>\n",
       "      <td>0</td>\n",
       "      <td>1</td>\n",
       "      <td>1</td>\n",
       "    </tr>\n",
       "    <tr>\n",
       "      <th>classical</th>\n",
       "      <td>0</td>\n",
       "      <td>20</td>\n",
       "      <td>0</td>\n",
       "      <td>0</td>\n",
       "      <td>0</td>\n",
       "      <td>0</td>\n",
       "      <td>0</td>\n",
       "      <td>0</td>\n",
       "      <td>0</td>\n",
       "      <td>0</td>\n",
       "    </tr>\n",
       "    <tr>\n",
       "      <th>country</th>\n",
       "      <td>2</td>\n",
       "      <td>5</td>\n",
       "      <td>6</td>\n",
       "      <td>0</td>\n",
       "      <td>0</td>\n",
       "      <td>1</td>\n",
       "      <td>0</td>\n",
       "      <td>0</td>\n",
       "      <td>0</td>\n",
       "      <td>6</td>\n",
       "    </tr>\n",
       "    <tr>\n",
       "      <th>disco</th>\n",
       "      <td>0</td>\n",
       "      <td>1</td>\n",
       "      <td>0</td>\n",
       "      <td>7</td>\n",
       "      <td>3</td>\n",
       "      <td>0</td>\n",
       "      <td>0</td>\n",
       "      <td>5</td>\n",
       "      <td>0</td>\n",
       "      <td>4</td>\n",
       "    </tr>\n",
       "    <tr>\n",
       "      <th>hiphop</th>\n",
       "      <td>0</td>\n",
       "      <td>0</td>\n",
       "      <td>0</td>\n",
       "      <td>1</td>\n",
       "      <td>18</td>\n",
       "      <td>0</td>\n",
       "      <td>0</td>\n",
       "      <td>1</td>\n",
       "      <td>0</td>\n",
       "      <td>0</td>\n",
       "    </tr>\n",
       "    <tr>\n",
       "      <th>jazz</th>\n",
       "      <td>3</td>\n",
       "      <td>3</td>\n",
       "      <td>3</td>\n",
       "      <td>0</td>\n",
       "      <td>0</td>\n",
       "      <td>10</td>\n",
       "      <td>0</td>\n",
       "      <td>1</td>\n",
       "      <td>0</td>\n",
       "      <td>0</td>\n",
       "    </tr>\n",
       "    <tr>\n",
       "      <th>metal</th>\n",
       "      <td>1</td>\n",
       "      <td>0</td>\n",
       "      <td>0</td>\n",
       "      <td>1</td>\n",
       "      <td>1</td>\n",
       "      <td>0</td>\n",
       "      <td>14</td>\n",
       "      <td>0</td>\n",
       "      <td>0</td>\n",
       "      <td>3</td>\n",
       "    </tr>\n",
       "    <tr>\n",
       "      <th>pop</th>\n",
       "      <td>0</td>\n",
       "      <td>0</td>\n",
       "      <td>1</td>\n",
       "      <td>1</td>\n",
       "      <td>1</td>\n",
       "      <td>0</td>\n",
       "      <td>0</td>\n",
       "      <td>15</td>\n",
       "      <td>1</td>\n",
       "      <td>1</td>\n",
       "    </tr>\n",
       "    <tr>\n",
       "      <th>reggae</th>\n",
       "      <td>0</td>\n",
       "      <td>0</td>\n",
       "      <td>0</td>\n",
       "      <td>2</td>\n",
       "      <td>1</td>\n",
       "      <td>0</td>\n",
       "      <td>0</td>\n",
       "      <td>4</td>\n",
       "      <td>11</td>\n",
       "      <td>2</td>\n",
       "    </tr>\n",
       "    <tr>\n",
       "      <th>rock</th>\n",
       "      <td>1</td>\n",
       "      <td>0</td>\n",
       "      <td>2</td>\n",
       "      <td>0</td>\n",
       "      <td>0</td>\n",
       "      <td>0</td>\n",
       "      <td>0</td>\n",
       "      <td>1</td>\n",
       "      <td>0</td>\n",
       "      <td>16</td>\n",
       "    </tr>\n",
       "  </tbody>\n",
       "</table>\n",
       "</div>"
      ],
      "text/plain": [
       "           blues  classical  country  disco  ...  metal  pop  reggae  rock\n",
       "blues         15          0        0      1  ...      0    0       1     1\n",
       "classical      0         20        0      0  ...      0    0       0     0\n",
       "country        2          5        6      0  ...      0    0       0     6\n",
       "disco          0          1        0      7  ...      0    5       0     4\n",
       "hiphop         0          0        0      1  ...      0    1       0     0\n",
       "jazz           3          3        3      0  ...      0    1       0     0\n",
       "metal          1          0        0      1  ...     14    0       0     3\n",
       "pop            0          0        1      1  ...      0   15       1     1\n",
       "reggae         0          0        0      2  ...      0    4      11     2\n",
       "rock           1          0        2      0  ...      0    1       0    16\n",
       "\n",
       "[10 rows x 10 columns]"
      ]
     },
     "execution_count": 23,
     "metadata": {
      "tags": []
     },
     "output_type": "execute_result"
    }
   ],
   "source": [
    "confusion_df"
   ]
  },
  {
   "cell_type": "markdown",
   "metadata": {
    "id": "gahrF0ae_-xR"
   },
   "source": [
    "#### Creating a heatmap for the confusion matrix for display"
   ]
  },
  {
   "cell_type": "code",
   "execution_count": 24,
   "metadata": {
    "colab": {
     "base_uri": "https://localhost:8080/",
     "height": 749
    },
    "executionInfo": {
     "elapsed": 182231,
     "status": "ok",
     "timestamp": 1607292692764,
     "user": {
      "displayName": "Kenechukwu Ajufo",
      "photoUrl": "https://lh3.googleusercontent.com/a-/AOh14GiFsWqmH7rgq2-lVe-s7VVphDU-dx8XVe09wull=s64",
      "userId": "13190776831265122275"
     },
     "user_tz": 0
    },
    "id": "FpW3Kwie_-xR",
    "outputId": "6a380ef0-8e52-41e1-8154-66be71850c6b"
   },
   "outputs": [
    {
     "data": {
      "image/png": "[encoded data removed]",
      "text/plain": [
       "<Figure size 1440x864 with 2 Axes>"
      ]
     },
     "metadata": {
      "needs_background": "light",
      "tags": []
     },
     "output_type": "display_data"
    }
   ],
   "source": [
    "plt.figure(figsize= (20,12))\n",
    "sns.set(font_scale = 2);\n",
    "ax = sns.heatmap(confusion_df, annot=True, cmap=sns.cubehelix_palette(rot=-.4));\n",
    "ax.set(xlabel='Predicted Values', ylabel='Actual Values');"
   ]
  },
  {
   "cell_type": "code",
   "execution_count": 25,
   "metadata": {
    "colab": {
     "base_uri": "https://localhost:8080/"
    },
    "executionInfo": {
     "elapsed": 182223,
     "status": "ok",
     "timestamp": 1607292692766,
     "user": {
      "displayName": "Kenechukwu Ajufo",
      "photoUrl": "https://lh3.googleusercontent.com/a-/AOh14GiFsWqmH7rgq2-lVe-s7VVphDU-dx8XVe09wull=s64",
      "userId": "13190776831265122275"
     },
     "user_tz": 0
    },
    "id": "_GmcM38U_-xS",
    "outputId": "bea02988-c755-49fd-f39e-68af3a894f1a"
   },
   "outputs": [
    {
     "name": "stdout",
     "output_type": "stream",
     "text": [
      "              precision    recall  f1-score   support\n",
      "\n",
      "           0       0.68      0.75      0.71        20\n",
      "           1       0.69      1.00      0.82        20\n",
      "           2       0.50      0.30      0.37        20\n",
      "           3       0.54      0.35      0.42        20\n",
      "           4       0.72      0.90      0.80        20\n",
      "           5       0.83      0.50      0.62        20\n",
      "           6       1.00      0.70      0.82        20\n",
      "           7       0.56      0.75      0.64        20\n",
      "           8       0.85      0.55      0.67        20\n",
      "           9       0.48      0.80      0.60        20\n",
      "\n",
      "    accuracy                           0.66       200\n",
      "   macro avg       0.68      0.66      0.65       200\n",
      "weighted avg       0.68      0.66      0.65       200\n",
      "\n"
     ]
    }
   ],
   "source": [
    "from sklearn.metrics import classification_report\n",
    "\n",
    "print(classification_report(np.argmax(y_test, 1),  np.argmax(predictions, 1)))"
   ]
  }
 ],
 "metadata": {
  "accelerator": "GPU",
  "colab": {
   "name": "Copy of CRNN Model.ipynb",
   "provenance": [
    {
     "file_id": "1vRspjUwAAbdSlOmQ5p88a0VihTS_QAEt",
     "timestamp": 1607292179855
    }
   ]
  },
  "kernelspec": {
   "display_name": "Python 3",
   "language": "python",
   "name": "python3"
  },
  "language_info": {
   "codemirror_mode": {
    "name": "ipython",
    "version": 3
   },
   "file_extension": ".py",
   "mimetype": "text/x-python",
   "name": "python",
   "nbconvert_exporter": "python",
   "pygments_lexer": "ipython3",
   "version": "3.7.6"
  }
 },
 "nbformat": 4,
 "nbformat_minor": 1
}
