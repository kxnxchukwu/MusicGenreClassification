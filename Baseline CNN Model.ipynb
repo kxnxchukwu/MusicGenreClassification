{
 "cells": [
  {
   "cell_type": "markdown",
   "metadata": {},
   "source": [
    "## Import Libraries"
   ]
  },
  {
   "cell_type": "code",
   "execution_count": 1,
   "metadata": {
    "id": "oHSrmFo85hPr"
   },
   "outputs": [],
   "source": [
    "import os\n",
    "import librosa\n",
    "import pandas as pd\n",
    "import numpy as np\n",
    "import seaborn as sns\n",
    "import matplotlib.pyplot as plt\n",
    "from sklearn.model_selection import train_test_split\n",
    "from sklearn.metrics import confusion_matrix\n",
    "from tensorflow.python.keras.models import Sequential\n",
    "from tensorflow.python.keras.layers import Dense, Dropout, Flatten, Conv2D, MaxPooling2D\n",
    "from tensorflow.python.keras import utils\n",
    "from keras.utils import to_categorical\n",
    "from numpy import load"
   ]
  },
  {
   "cell_type": "markdown",
   "metadata": {},
   "source": [
    "### Load Spectrogram and Label Numpy Array from npy file"
   ]
  },
  {
   "cell_type": "code",
   "execution_count": 2,
   "metadata": {
    "id": "tJxUFAx65tWL"
   },
   "outputs": [],
   "source": [
    "# load Labels array\n",
    "y = load('Data/labels.npy')"
   ]
  },
  {
   "cell_type": "code",
   "execution_count": 3,
   "metadata": {
    "colab": {
     "base_uri": "https://localhost:8080/",
     "height": 297
    },
    "id": "9qpYtkV07-g5",
    "outputId": "3523c563-a5d9-4bfb-dd22-e06a9bd973dd"
   },
   "outputs": [],
   "source": [
    "# load Spectrogam array\n",
    "X = load('Data/mel_specs.npy')"
   ]
  },
  {
   "cell_type": "markdown",
   "metadata": {},
   "source": [
    "#### Train test split"
   ]
  },
  {
   "cell_type": "code",
   "execution_count": 4,
   "metadata": {
    "id": "VnVIhzTs8Pfk"
   },
   "outputs": [],
   "source": [
    "X_train, X_test, y_train, y_test = train_test_split(X, y, random_state=42, stratify=y, test_size=.2)"
   ]
  },
  {
   "cell_type": "code",
   "execution_count": 5,
   "metadata": {},
   "outputs": [
    {
     "data": {
      "text/plain": [
       "(200, 128, 660)"
      ]
     },
     "execution_count": 5,
     "metadata": {},
     "output_type": "execute_result"
    }
   ],
   "source": [
    "X_test.shape"
   ]
  },
  {
   "cell_type": "code",
   "execution_count": 6,
   "metadata": {},
   "outputs": [
    {
     "data": {
      "text/plain": [
       "(799, 128, 660)"
      ]
     },
     "execution_count": 6,
     "metadata": {},
     "output_type": "execute_result"
    }
   ],
   "source": [
    "X_train.shape"
   ]
  },
  {
   "cell_type": "markdown",
   "metadata": {},
   "source": [
    "#### Reshaping images to be 128 x 660 x 1, where the 1 represents the single color channel"
   ]
  },
  {
   "cell_type": "code",
   "execution_count": 7,
   "metadata": {
    "id": "1kMFpuHg8YoU"
   },
   "outputs": [],
   "source": [
    "X_train = X_train.reshape(X_train.shape[0], 128, 660, 1)\n",
    "X_test = X_test.reshape(X_test.shape[0], 128, 660, 1)"
   ]
  },
  {
   "cell_type": "markdown",
   "metadata": {},
   "source": [
    "#### One hot encoding our labels"
   ]
  },
  {
   "cell_type": "code",
   "execution_count": 8,
   "metadata": {
    "id": "sv3exWT18ZxC"
   },
   "outputs": [],
   "source": [
    "y_train = to_categorical(y_train, 10)\n",
    "y_test = to_categorical(y_test, 10)"
   ]
  },
  {
   "cell_type": "markdown",
   "metadata": {},
   "source": [
    "### Define the Convolutional Neural Network Model"
   ]
  },
  {
   "cell_type": "code",
   "execution_count": 9,
   "metadata": {
    "id": "2e6jC60L868w"
   },
   "outputs": [],
   "source": [
    "model = Sequential(name='CNN')\n",
    "model.add(Conv2D(32, (3, 3), activation='relu', input_shape=(128, 660, 1)))\n",
    "model.add(MaxPooling2D(pool_size=(2,4)))\n",
    "model.add(Conv2D(64, (3, 3), activation='relu'))\n",
    "model.add(MaxPooling2D(pool_size=(2,4)))\n",
    "model.add(Flatten())\n",
    "model.add(Dense(64, activation='relu'))\n",
    "model.add(Dense(10, activation='softmax'))"
   ]
  },
  {
   "cell_type": "markdown",
   "metadata": {},
   "source": [
    "### Compile the Model"
   ]
  },
  {
   "cell_type": "code",
   "execution_count": 10,
   "metadata": {
    "id": "tIAL78b18lPj"
   },
   "outputs": [],
   "source": [
    "model.compile(loss='categorical_crossentropy', optimizer='adam', metrics=['accuracy'])"
   ]
  },
  {
   "cell_type": "markdown",
   "metadata": {},
   "source": [
    "### Model Summary"
   ]
  },
  {
   "cell_type": "code",
   "execution_count": 11,
   "metadata": {},
   "outputs": [
    {
     "name": "stdout",
     "output_type": "stream",
     "text": [
      "Model: \"CNN\"\n",
      "_________________________________________________________________\n",
      "Layer (type)                 Output Shape              Param #   \n",
      "=================================================================\n",
      "conv2d (Conv2D)              (None, 126, 658, 32)      320       \n",
      "_________________________________________________________________\n",
      "max_pooling2d (MaxPooling2D) (None, 63, 164, 32)       0         \n",
      "_________________________________________________________________\n",
      "conv2d_1 (Conv2D)            (None, 61, 162, 64)       18496     \n",
      "_________________________________________________________________\n",
      "max_pooling2d_1 (MaxPooling2 (None, 30, 40, 64)        0         \n",
      "_________________________________________________________________\n",
      "flatten (Flatten)            (None, 76800)             0         \n",
      "_________________________________________________________________\n",
      "dense (Dense)                (None, 64)                4915264   \n",
      "_________________________________________________________________\n",
      "dense_1 (Dense)              (None, 10)                650       \n",
      "=================================================================\n",
      "Total params: 4,934,730\n",
      "Trainable params: 4,934,730\n",
      "Non-trainable params: 0\n",
      "_________________________________________________________________\n"
     ]
    }
   ],
   "source": [
    "model.summary()"
   ]
  },
  {
   "cell_type": "markdown",
   "metadata": {},
   "source": [
    "### Train the model"
   ]
  },
  {
   "cell_type": "code",
   "execution_count": 12,
   "metadata": {
    "id": "Ek8U1lb59dX7"
   },
   "outputs": [
    {
     "name": "stdout",
     "output_type": "stream",
     "text": [
      "Epoch 1/25\n",
      "40/40 [==============================] - 35s 877ms/step - loss: 22.1986 - accuracy: 0.1101 - val_loss: 2.3021 - val_accuracy: 0.1050\n",
      "Epoch 2/25\n",
      "40/40 [==============================] - 34s 859ms/step - loss: 2.2603 - accuracy: 0.1740 - val_loss: 2.0776 - val_accuracy: 0.2450\n",
      "Epoch 3/25\n",
      "40/40 [==============================] - 34s 856ms/step - loss: 1.8811 - accuracy: 0.3579 - val_loss: 1.8681 - val_accuracy: 0.2750\n",
      "Epoch 4/25\n",
      "40/40 [==============================] - 40s 1s/step - loss: 1.3372 - accuracy: 0.5394 - val_loss: 1.9428 - val_accuracy: 0.3050\n",
      "Epoch 5/25\n",
      "40/40 [==============================] - 46s 1s/step - loss: 0.8847 - accuracy: 0.7184 - val_loss: 1.9659 - val_accuracy: 0.4250\n",
      "Epoch 6/25\n",
      "40/40 [==============================] - 34s 861ms/step - loss: 0.4676 - accuracy: 0.8611 - val_loss: 2.2554 - val_accuracy: 0.3550\n",
      "Epoch 7/25\n",
      "40/40 [==============================] - 45s 1s/step - loss: 0.2805 - accuracy: 0.9149 - val_loss: 2.1077 - val_accuracy: 0.4200\n",
      "Epoch 8/25\n",
      "40/40 [==============================] - 49s 1s/step - loss: 0.0994 - accuracy: 0.9737 - val_loss: 2.8597 - val_accuracy: 0.4450\n",
      "Epoch 9/25\n",
      "40/40 [==============================] - 42s 1s/step - loss: 0.1026 - accuracy: 0.9787 - val_loss: 3.5049 - val_accuracy: 0.4100\n",
      "Epoch 10/25\n",
      "40/40 [==============================] - 49s 1s/step - loss: 0.1701 - accuracy: 0.9449 - val_loss: 3.3545 - val_accuracy: 0.4300\n",
      "Epoch 11/25\n",
      "40/40 [==============================] - 57s 1s/step - loss: 0.0666 - accuracy: 0.9837 - val_loss: 2.7656 - val_accuracy: 0.4450\n",
      "Epoch 12/25\n",
      "40/40 [==============================] - 38s 938ms/step - loss: 0.0350 - accuracy: 0.9937 - val_loss: 4.0443 - val_accuracy: 0.3850\n",
      "Epoch 13/25\n",
      "40/40 [==============================] - 35s 865ms/step - loss: 0.0165 - accuracy: 0.9962 - val_loss: 3.5565 - val_accuracy: 0.4450\n",
      "Epoch 14/25\n",
      "40/40 [==============================] - 35s 864ms/step - loss: 0.0196 - accuracy: 0.9950 - val_loss: 3.6739 - val_accuracy: 0.4100\n",
      "Epoch 15/25\n",
      "40/40 [==============================] - 35s 865ms/step - loss: 0.0175 - accuracy: 0.9962 - val_loss: 3.5999 - val_accuracy: 0.4000\n",
      "Epoch 16/25\n",
      "40/40 [==============================] - 35s 870ms/step - loss: 0.0267 - accuracy: 0.9950 - val_loss: 2.9758 - val_accuracy: 0.4250\n",
      "Epoch 17/25\n",
      "40/40 [==============================] - 47s 1s/step - loss: 0.1307 - accuracy: 0.9725 - val_loss: 3.5004 - val_accuracy: 0.3450\n",
      "Epoch 18/25\n",
      "40/40 [==============================] - 56s 1s/step - loss: 0.1523 - accuracy: 0.9687 - val_loss: 6.5672 - val_accuracy: 0.3100\n",
      "Epoch 19/25\n",
      "40/40 [==============================] - 35s 867ms/step - loss: 0.6506 - accuracy: 0.7985 - val_loss: 2.4506 - val_accuracy: 0.3600\n",
      "Epoch 20/25\n",
      "40/40 [==============================] - 35s 873ms/step - loss: 0.2494 - accuracy: 0.9337 - val_loss: 3.0057 - val_accuracy: 0.4250\n",
      "Epoch 21/25\n",
      "40/40 [==============================] - 35s 866ms/step - loss: 0.0725 - accuracy: 0.9850 - val_loss: 3.1325 - val_accuracy: 0.4050\n",
      "Epoch 22/25\n",
      "40/40 [==============================] - 35s 865ms/step - loss: 0.0639 - accuracy: 0.9887 - val_loss: 3.0063 - val_accuracy: 0.3900\n",
      "Epoch 23/25\n",
      "40/40 [==============================] - 35s 864ms/step - loss: 0.0459 - accuracy: 0.9912 - val_loss: 3.9002 - val_accuracy: 0.3900\n",
      "Epoch 24/25\n",
      "40/40 [==============================] - 35s 874ms/step - loss: 0.0145 - accuracy: 0.9987 - val_loss: 4.0099 - val_accuracy: 0.4050\n",
      "Epoch 25/25\n",
      "40/40 [==============================] - 35s 871ms/step - loss: 0.0076 - accuracy: 0.9987 - val_loss: 4.2957 - val_accuracy: 0.4050\n"
     ]
    }
   ],
   "source": [
    "history = model.fit(X_train, y_train, batch_size=20, validation_data=(X_test, y_test), epochs=25)"
   ]
  },
  {
   "cell_type": "markdown",
   "metadata": {},
   "source": [
    "### Check the Model's train loss and test loss over epochs."
   ]
  },
  {
   "cell_type": "code",
   "execution_count": 13,
   "metadata": {
    "id": "212KgUfz9qxC"
   },
   "outputs": [
    {
     "data": {
      "image/png": "[encoded data removed]",
      "text/plain": [
       "<Figure size 864x576 with 1 Axes>"
      ]
     },
     "metadata": {
      "needs_background": "light"
     },
     "output_type": "display_data"
    }
   ],
   "source": [
    "train_loss = history.history['loss']\n",
    "test_loss = history.history['val_loss']\n",
    "\n",
    "# Set figure size.\n",
    "plt.figure(figsize=(12, 8))\n",
    "\n",
    "# Generate line plot of training, testing loss over epochs.\n",
    "plt.plot(train_loss, label='Training Loss', color='blue')\n",
    "plt.plot(test_loss, label='Testing Loss', color='red')\n",
    "\n",
    "# Set title\n",
    "plt.title('Training and Testing Loss by Epoch', fontsize = 25)\n",
    "plt.xlabel('Epoch', fontsize = 18)\n",
    "plt.ylabel('Categorical Crossentropy', fontsize = 18)\n",
    "plt.xticks(range(1,26), range(1,26))\n",
    "\n",
    "plt.legend(fontsize = 18);"
   ]
  },
  {
   "cell_type": "markdown",
   "metadata": {},
   "source": [
    "### Check the Model's train accuracy and test accuracy over epochs."
   ]
  },
  {
   "cell_type": "code",
   "execution_count": 14,
   "metadata": {},
   "outputs": [
    {
     "data": {
      "image/png": "[encoded data removed]",
      "text/plain": [
       "<Figure size 864x576 with 1 Axes>"
      ]
     },
     "metadata": {
      "needs_background": "light"
     },
     "output_type": "display_data"
    }
   ],
   "source": [
    "train_loss = history.history['accuracy']\n",
    "test_loss = history.history['val_accuracy']\n",
    "\n",
    "# Set figure size.\n",
    "plt.figure(figsize=(12, 8))\n",
    "\n",
    "# Generate line plot of training, testing loss over epochs.\n",
    "plt.plot(train_loss, label='Training Accuracy', color='blue')\n",
    "plt.plot(test_loss, label='Testing Accuracy', color='red')\n",
    "\n",
    "# Set title\n",
    "plt.title('Training and Testing Accuracy by Epoch', fontsize = 25)\n",
    "plt.xlabel('Epoch', fontsize = 18)\n",
    "plt.ylabel('Accuracy', fontsize = 18)\n",
    "plt.xticks(range(1,26), range(1,26))\n",
    "\n",
    "plt.legend(fontsize = 18);"
   ]
  },
  {
   "cell_type": "markdown",
   "metadata": {},
   "source": [
    "### Evaluate the model"
   ]
  },
  {
   "cell_type": "code",
   "execution_count": 15,
   "metadata": {},
   "outputs": [
    {
     "name": "stdout",
     "output_type": "stream",
     "text": [
      "7/7 - 2s - loss: 4.2957 - accuracy: 0.4050\n"
     ]
    }
   ],
   "source": [
    "test_loss, test_acc = model.evaluate(X_test, y_test, verbose=2)"
   ]
  },
  {
   "cell_type": "code",
   "execution_count": 16,
   "metadata": {},
   "outputs": [
    {
     "name": "stdout",
     "output_type": "stream",
     "text": [
      "0.4050000011920929\n"
     ]
    }
   ],
   "source": [
    "print(test_acc)"
   ]
  },
  {
   "cell_type": "markdown",
   "metadata": {},
   "source": [
    "### Making predictions with the CNN model"
   ]
  },
  {
   "cell_type": "code",
   "execution_count": 17,
   "metadata": {},
   "outputs": [
    {
     "name": "stdout",
     "output_type": "stream",
     "text": [
      "7/7 [==============================] - 2s 304ms/step\n"
     ]
    }
   ],
   "source": [
    "predictions = model.predict(X_test, verbose=1)"
   ]
  },
  {
   "cell_type": "markdown",
   "metadata": {},
   "source": [
    "### CNN Confusion Matrix"
   ]
  },
  {
   "cell_type": "code",
   "execution_count": 18,
   "metadata": {},
   "outputs": [
    {
     "data": {
      "text/plain": [
       "array([[ 5,  0,  1,  1,  0,  0,  0,  1,  8,  4],\n",
       "       [ 0, 13,  3,  2,  0,  2,  0,  0,  0,  0],\n",
       "       [ 2,  3,  7,  2,  0,  0,  0,  1,  2,  3],\n",
       "       [ 1,  2,  2,  5,  3,  0,  0,  2,  2,  3],\n",
       "       [ 0,  0,  0,  0, 13,  1,  1,  2,  2,  1],\n",
       "       [ 0,  2,  5,  1,  1,  6,  0,  0,  4,  1],\n",
       "       [ 2,  0,  0,  0,  3,  0, 12,  0,  1,  2],\n",
       "       [ 0,  2,  2,  2,  1,  0,  0,  9,  3,  1],\n",
       "       [ 1,  0,  2,  1,  3,  1,  0,  3,  7,  2],\n",
       "       [ 2,  0,  2,  3,  2,  0,  1,  2,  4,  4]], dtype=int64)"
      ]
     },
     "execution_count": 18,
     "metadata": {},
     "output_type": "execute_result"
    }
   ],
   "source": [
    "conf_matrix = confusion_matrix(np.argmax(y_test, 1), np.argmax(predictions, 1))\n",
    "conf_matrix"
   ]
  },
  {
   "cell_type": "code",
   "execution_count": 19,
   "metadata": {},
   "outputs": [
    {
     "data": {
      "text/html": [
       "<div>\n",
       "<style scoped>\n",
       "    .dataframe tbody tr th:only-of-type {\n",
       "        vertical-align: middle;\n",
       "    }\n",
       "\n",
       "    .dataframe tbody tr th {\n",
       "        vertical-align: top;\n",
       "    }\n",
       "\n",
       "    .dataframe thead th {\n",
       "        text-align: right;\n",
       "    }\n",
       "</style>\n",
       "<table border=\"1\" class=\"dataframe\">\n",
       "  <thead>\n",
       "    <tr style=\"text-align: right;\">\n",
       "      <th></th>\n",
       "      <th>0</th>\n",
       "      <th>1</th>\n",
       "      <th>2</th>\n",
       "      <th>3</th>\n",
       "      <th>4</th>\n",
       "      <th>5</th>\n",
       "      <th>6</th>\n",
       "      <th>7</th>\n",
       "      <th>8</th>\n",
       "      <th>9</th>\n",
       "    </tr>\n",
       "  </thead>\n",
       "  <tbody>\n",
       "    <tr>\n",
       "      <th>0</th>\n",
       "      <td>5</td>\n",
       "      <td>0</td>\n",
       "      <td>1</td>\n",
       "      <td>1</td>\n",
       "      <td>0</td>\n",
       "      <td>0</td>\n",
       "      <td>0</td>\n",
       "      <td>1</td>\n",
       "      <td>8</td>\n",
       "      <td>4</td>\n",
       "    </tr>\n",
       "    <tr>\n",
       "      <th>1</th>\n",
       "      <td>0</td>\n",
       "      <td>13</td>\n",
       "      <td>3</td>\n",
       "      <td>2</td>\n",
       "      <td>0</td>\n",
       "      <td>2</td>\n",
       "      <td>0</td>\n",
       "      <td>0</td>\n",
       "      <td>0</td>\n",
       "      <td>0</td>\n",
       "    </tr>\n",
       "    <tr>\n",
       "      <th>2</th>\n",
       "      <td>2</td>\n",
       "      <td>3</td>\n",
       "      <td>7</td>\n",
       "      <td>2</td>\n",
       "      <td>0</td>\n",
       "      <td>0</td>\n",
       "      <td>0</td>\n",
       "      <td>1</td>\n",
       "      <td>2</td>\n",
       "      <td>3</td>\n",
       "    </tr>\n",
       "    <tr>\n",
       "      <th>3</th>\n",
       "      <td>1</td>\n",
       "      <td>2</td>\n",
       "      <td>2</td>\n",
       "      <td>5</td>\n",
       "      <td>3</td>\n",
       "      <td>0</td>\n",
       "      <td>0</td>\n",
       "      <td>2</td>\n",
       "      <td>2</td>\n",
       "      <td>3</td>\n",
       "    </tr>\n",
       "    <tr>\n",
       "      <th>4</th>\n",
       "      <td>0</td>\n",
       "      <td>0</td>\n",
       "      <td>0</td>\n",
       "      <td>0</td>\n",
       "      <td>13</td>\n",
       "      <td>1</td>\n",
       "      <td>1</td>\n",
       "      <td>2</td>\n",
       "      <td>2</td>\n",
       "      <td>1</td>\n",
       "    </tr>\n",
       "    <tr>\n",
       "      <th>5</th>\n",
       "      <td>0</td>\n",
       "      <td>2</td>\n",
       "      <td>5</td>\n",
       "      <td>1</td>\n",
       "      <td>1</td>\n",
       "      <td>6</td>\n",
       "      <td>0</td>\n",
       "      <td>0</td>\n",
       "      <td>4</td>\n",
       "      <td>1</td>\n",
       "    </tr>\n",
       "    <tr>\n",
       "      <th>6</th>\n",
       "      <td>2</td>\n",
       "      <td>0</td>\n",
       "      <td>0</td>\n",
       "      <td>0</td>\n",
       "      <td>3</td>\n",
       "      <td>0</td>\n",
       "      <td>12</td>\n",
       "      <td>0</td>\n",
       "      <td>1</td>\n",
       "      <td>2</td>\n",
       "    </tr>\n",
       "    <tr>\n",
       "      <th>7</th>\n",
       "      <td>0</td>\n",
       "      <td>2</td>\n",
       "      <td>2</td>\n",
       "      <td>2</td>\n",
       "      <td>1</td>\n",
       "      <td>0</td>\n",
       "      <td>0</td>\n",
       "      <td>9</td>\n",
       "      <td>3</td>\n",
       "      <td>1</td>\n",
       "    </tr>\n",
       "    <tr>\n",
       "      <th>8</th>\n",
       "      <td>1</td>\n",
       "      <td>0</td>\n",
       "      <td>2</td>\n",
       "      <td>1</td>\n",
       "      <td>3</td>\n",
       "      <td>1</td>\n",
       "      <td>0</td>\n",
       "      <td>3</td>\n",
       "      <td>7</td>\n",
       "      <td>2</td>\n",
       "    </tr>\n",
       "    <tr>\n",
       "      <th>9</th>\n",
       "      <td>2</td>\n",
       "      <td>0</td>\n",
       "      <td>2</td>\n",
       "      <td>3</td>\n",
       "      <td>2</td>\n",
       "      <td>0</td>\n",
       "      <td>1</td>\n",
       "      <td>2</td>\n",
       "      <td>4</td>\n",
       "      <td>4</td>\n",
       "    </tr>\n",
       "  </tbody>\n",
       "</table>\n",
       "</div>"
      ],
      "text/plain": [
       "   0   1  2  3   4  5   6  7  8  9\n",
       "0  5   0  1  1   0  0   0  1  8  4\n",
       "1  0  13  3  2   0  2   0  0  0  0\n",
       "2  2   3  7  2   0  0   0  1  2  3\n",
       "3  1   2  2  5   3  0   0  2  2  3\n",
       "4  0   0  0  0  13  1   1  2  2  1\n",
       "5  0   2  5  1   1  6   0  0  4  1\n",
       "6  2   0  0  0   3  0  12  0  1  2\n",
       "7  0   2  2  2   1  0   0  9  3  1\n",
       "8  1   0  2  1   3  1   0  3  7  2\n",
       "9  2   0  2  3   2  0   1  2  4  4"
      ]
     },
     "execution_count": 19,
     "metadata": {},
     "output_type": "execute_result"
    }
   ],
   "source": [
    "confusion_df = pd.DataFrame(conf_matrix)\n",
    "confusion_df"
   ]
  },
  {
   "cell_type": "markdown",
   "metadata": {},
   "source": [
    "#### Matching the Encoded Labels "
   ]
  },
  {
   "cell_type": "code",
   "execution_count": 20,
   "metadata": {},
   "outputs": [],
   "source": [
    "labels_dict = {\n",
    "        0: 'blues',\n",
    "        1: 'classical',\n",
    "        2: 'country',\n",
    "        3: 'disco',\n",
    "        4: 'hiphop',\n",
    "        5: 'jazz',\n",
    "        6: 'metal',\n",
    "        7: 'pop',\n",
    "        8: 'reggae',\n",
    "        9: 'rock'\n",
    "    }"
   ]
  },
  {
   "cell_type": "code",
   "execution_count": 21,
   "metadata": {},
   "outputs": [],
   "source": [
    "confusion_df = confusion_df.rename(columns=labels_dict, index=labels_dict)"
   ]
  },
  {
   "cell_type": "code",
   "execution_count": 22,
   "metadata": {},
   "outputs": [
    {
     "data": {
      "text/html": [
       "<div>\n",
       "<style scoped>\n",
       "    .dataframe tbody tr th:only-of-type {\n",
       "        vertical-align: middle;\n",
       "    }\n",
       "\n",
       "    .dataframe tbody tr th {\n",
       "        vertical-align: top;\n",
       "    }\n",
       "\n",
       "    .dataframe thead th {\n",
       "        text-align: right;\n",
       "    }\n",
       "</style>\n",
       "<table border=\"1\" class=\"dataframe\">\n",
       "  <thead>\n",
       "    <tr style=\"text-align: right;\">\n",
       "      <th></th>\n",
       "      <th>blues</th>\n",
       "      <th>classical</th>\n",
       "      <th>country</th>\n",
       "      <th>disco</th>\n",
       "      <th>hiphop</th>\n",
       "      <th>jazz</th>\n",
       "      <th>metal</th>\n",
       "      <th>pop</th>\n",
       "      <th>reggae</th>\n",
       "      <th>rock</th>\n",
       "    </tr>\n",
       "  </thead>\n",
       "  <tbody>\n",
       "    <tr>\n",
       "      <th>blues</th>\n",
       "      <td>5</td>\n",
       "      <td>0</td>\n",
       "      <td>1</td>\n",
       "      <td>1</td>\n",
       "      <td>0</td>\n",
       "      <td>0</td>\n",
       "      <td>0</td>\n",
       "      <td>1</td>\n",
       "      <td>8</td>\n",
       "      <td>4</td>\n",
       "    </tr>\n",
       "    <tr>\n",
       "      <th>classical</th>\n",
       "      <td>0</td>\n",
       "      <td>13</td>\n",
       "      <td>3</td>\n",
       "      <td>2</td>\n",
       "      <td>0</td>\n",
       "      <td>2</td>\n",
       "      <td>0</td>\n",
       "      <td>0</td>\n",
       "      <td>0</td>\n",
       "      <td>0</td>\n",
       "    </tr>\n",
       "    <tr>\n",
       "      <th>country</th>\n",
       "      <td>2</td>\n",
       "      <td>3</td>\n",
       "      <td>7</td>\n",
       "      <td>2</td>\n",
       "      <td>0</td>\n",
       "      <td>0</td>\n",
       "      <td>0</td>\n",
       "      <td>1</td>\n",
       "      <td>2</td>\n",
       "      <td>3</td>\n",
       "    </tr>\n",
       "    <tr>\n",
       "      <th>disco</th>\n",
       "      <td>1</td>\n",
       "      <td>2</td>\n",
       "      <td>2</td>\n",
       "      <td>5</td>\n",
       "      <td>3</td>\n",
       "      <td>0</td>\n",
       "      <td>0</td>\n",
       "      <td>2</td>\n",
       "      <td>2</td>\n",
       "      <td>3</td>\n",
       "    </tr>\n",
       "    <tr>\n",
       "      <th>hiphop</th>\n",
       "      <td>0</td>\n",
       "      <td>0</td>\n",
       "      <td>0</td>\n",
       "      <td>0</td>\n",
       "      <td>13</td>\n",
       "      <td>1</td>\n",
       "      <td>1</td>\n",
       "      <td>2</td>\n",
       "      <td>2</td>\n",
       "      <td>1</td>\n",
       "    </tr>\n",
       "    <tr>\n",
       "      <th>jazz</th>\n",
       "      <td>0</td>\n",
       "      <td>2</td>\n",
       "      <td>5</td>\n",
       "      <td>1</td>\n",
       "      <td>1</td>\n",
       "      <td>6</td>\n",
       "      <td>0</td>\n",
       "      <td>0</td>\n",
       "      <td>4</td>\n",
       "      <td>1</td>\n",
       "    </tr>\n",
       "    <tr>\n",
       "      <th>metal</th>\n",
       "      <td>2</td>\n",
       "      <td>0</td>\n",
       "      <td>0</td>\n",
       "      <td>0</td>\n",
       "      <td>3</td>\n",
       "      <td>0</td>\n",
       "      <td>12</td>\n",
       "      <td>0</td>\n",
       "      <td>1</td>\n",
       "      <td>2</td>\n",
       "    </tr>\n",
       "    <tr>\n",
       "      <th>pop</th>\n",
       "      <td>0</td>\n",
       "      <td>2</td>\n",
       "      <td>2</td>\n",
       "      <td>2</td>\n",
       "      <td>1</td>\n",
       "      <td>0</td>\n",
       "      <td>0</td>\n",
       "      <td>9</td>\n",
       "      <td>3</td>\n",
       "      <td>1</td>\n",
       "    </tr>\n",
       "    <tr>\n",
       "      <th>reggae</th>\n",
       "      <td>1</td>\n",
       "      <td>0</td>\n",
       "      <td>2</td>\n",
       "      <td>1</td>\n",
       "      <td>3</td>\n",
       "      <td>1</td>\n",
       "      <td>0</td>\n",
       "      <td>3</td>\n",
       "      <td>7</td>\n",
       "      <td>2</td>\n",
       "    </tr>\n",
       "    <tr>\n",
       "      <th>rock</th>\n",
       "      <td>2</td>\n",
       "      <td>0</td>\n",
       "      <td>2</td>\n",
       "      <td>3</td>\n",
       "      <td>2</td>\n",
       "      <td>0</td>\n",
       "      <td>1</td>\n",
       "      <td>2</td>\n",
       "      <td>4</td>\n",
       "      <td>4</td>\n",
       "    </tr>\n",
       "  </tbody>\n",
       "</table>\n",
       "</div>"
      ],
      "text/plain": [
       "           blues  classical  country  disco  hiphop  jazz  metal  pop  reggae  \\\n",
       "blues          5          0        1      1       0     0      0    1       8   \n",
       "classical      0         13        3      2       0     2      0    0       0   \n",
       "country        2          3        7      2       0     0      0    1       2   \n",
       "disco          1          2        2      5       3     0      0    2       2   \n",
       "hiphop         0          0        0      0      13     1      1    2       2   \n",
       "jazz           0          2        5      1       1     6      0    0       4   \n",
       "metal          2          0        0      0       3     0     12    0       1   \n",
       "pop            0          2        2      2       1     0      0    9       3   \n",
       "reggae         1          0        2      1       3     1      0    3       7   \n",
       "rock           2          0        2      3       2     0      1    2       4   \n",
       "\n",
       "           rock  \n",
       "blues         4  \n",
       "classical     0  \n",
       "country       3  \n",
       "disco         3  \n",
       "hiphop        1  \n",
       "jazz          1  \n",
       "metal         2  \n",
       "pop           1  \n",
       "reggae        2  \n",
       "rock          4  "
      ]
     },
     "execution_count": 22,
     "metadata": {},
     "output_type": "execute_result"
    }
   ],
   "source": [
    "confusion_df"
   ]
  },
  {
   "cell_type": "markdown",
   "metadata": {},
   "source": [
    "#### Creating a heatmap for the confusion matrix for display"
   ]
  },
  {
   "cell_type": "code",
   "execution_count": 23,
   "metadata": {},
   "outputs": [
    {
     "data": {
      "image/png": "[encoded data removed]",
      "text/plain": [
       "<Figure size 1440x864 with 2 Axes>"
      ]
     },
     "metadata": {
      "needs_background": "light"
     },
     "output_type": "display_data"
    }
   ],
   "source": [
    "plt.figure(figsize= (20,12))\n",
    "sns.set(font_scale = 2);\n",
    "ax = sns.heatmap(confusion_df, annot=True, cmap=sns.cubehelix_palette(rot=-.4));\n",
    "ax.set(xlabel='Predicted Values', ylabel='Actual Values');"
   ]
  },
  {
   "cell_type": "code",
   "execution_count": 24,
   "metadata": {},
   "outputs": [
    {
     "name": "stdout",
     "output_type": "stream",
     "text": [
      "              precision    recall  f1-score   support\n",
      "\n",
      "           0       0.38      0.25      0.30        20\n",
      "           1       0.59      0.65      0.62        20\n",
      "           2       0.29      0.35      0.32        20\n",
      "           3       0.29      0.25      0.27        20\n",
      "           4       0.50      0.65      0.57        20\n",
      "           5       0.60      0.30      0.40        20\n",
      "           6       0.86      0.60      0.71        20\n",
      "           7       0.45      0.45      0.45        20\n",
      "           8       0.21      0.35      0.26        20\n",
      "           9       0.19      0.20      0.20        20\n",
      "\n",
      "    accuracy                           0.41       200\n",
      "   macro avg       0.44      0.40      0.41       200\n",
      "weighted avg       0.44      0.41      0.41       200\n",
      "\n"
     ]
    }
   ],
   "source": [
    "from sklearn.metrics import classification_report\n",
    "\n",
    "print(classification_report(np.argmax(y_test, 1),  np.argmax(predictions, 1)))"
   ]
  }
 ],
 "metadata": {
  "accelerator": "GPU",
  "colab": {
   "name": "CNN.ipynb",
   "provenance": []
  },
  "kernelspec": {
   "display_name": "Python 3",
   "language": "python",
   "name": "python3"
  },
  "language_info": {
   "codemirror_mode": {
    "name": "ipython",
    "version": 3
   },
   "file_extension": ".py",
   "mimetype": "text/x-python",
   "name": "python",
   "nbconvert_exporter": "python",
   "pygments_lexer": "ipython3",
   "version": "3.7.6"
  }
 },
 "nbformat": 4,
 "nbformat_minor": 1
}
