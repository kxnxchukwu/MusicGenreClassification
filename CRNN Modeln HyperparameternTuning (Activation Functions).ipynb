{
 "cells": [
  {
   "cell_type": "markdown",
   "metadata": {
    "id": "fiGkYQzPpjf6"
   },
   "source": [
    "## Import Libraries"
   ]
  },
  {
   "cell_type": "code",
   "execution_count": null,
   "metadata": {
    "id": "oHSrmFo85hPr"
   },
   "outputs": [],
   "source": [
    "import pandas as pd\n",
    "import numpy as np\n",
    "import seaborn as sns\n",
    "import matplotlib.pyplot as plt\n",
    "from sklearn.model_selection import train_test_split\n",
    "from sklearn.metrics import confusion_matrix\n",
    "from tensorflow.python.keras.models import Sequential\n",
    "from tensorflow.python.keras.layers import Dense, Dropout, Flatten, Conv2D, MaxPooling2D, BatchNormalization, GRU, Reshape\n",
    "from tensorflow.python.keras import utils\n",
    "from keras.utils import to_categorical\n",
    "from numpy import load\n",
    "import io"
   ]
  },
  {
   "cell_type": "markdown",
   "metadata": {
    "id": "O_JlVV9Lpjf7"
   },
   "source": [
    "### Load Spectrogram and Label Numpy Array from npy file"
   ]
  },
  {
   "cell_type": "code",
   "execution_count": null,
   "metadata": {
    "colab": {
     "base_uri": "https://localhost:8080/"
    },
    "id": "_PNz3MYnp4UF",
    "outputId": "2e94a562-4d6d-4985-bc59-ef9d57e37577"
   },
   "outputs": [
    {
     "name": "stdout",
     "output_type": "stream",
     "text": [
      "Mounted at /content/gdrive\n"
     ]
    }
   ],
   "source": [
    "from google.colab import files\n",
    "uploaded = files.upload()"
   ]
  },
  {
   "cell_type": "code",
   "execution_count": null,
   "metadata": {
    "id": "qsts46w0pjf7"
   },
   "outputs": [],
   "source": [
    "# load Spectrogam array\n",
    "X = load(io.BytesIO(uploaded['mel_specs.npy']))"
   ]
  },
  {
   "cell_type": "code",
   "execution_count": null,
   "metadata": {
    "id": "1wC16P1mpjf7"
   },
   "outputs": [],
   "source": [
    "# load Labels array\n",
    "y = load(io.BytesIO(uploaded['labels.npy']))"
   ]
  },
  {
   "cell_type": "markdown",
   "metadata": {
    "id": "htrjNUfbpjf7"
   },
   "source": [
    "#### Train test split"
   ]
  },
  {
   "cell_type": "code",
   "execution_count": null,
   "metadata": {
    "id": "VnVIhzTs8Pfk"
   },
   "outputs": [],
   "source": [
    "X_train, X_test, y_train, y_test = train_test_split(X, y, random_state=42, stratify=y, test_size=.2)"
   ]
  },
  {
   "cell_type": "code",
   "execution_count": null,
   "metadata": {
    "colab": {
     "base_uri": "https://localhost:8080/"
    },
    "id": "YOn_ArWvpjf7",
    "outputId": "8ff4f252-ba6d-4a91-9c0e-0cf69e4b12f6"
   },
   "outputs": [
    {
     "data": {
      "text/plain": [
       "(200, 128, 660)"
      ]
     },
     "execution_count": 6,
     "metadata": {
      "tags": []
     },
     "output_type": "execute_result"
    }
   ],
   "source": [
    "X_test.shape"
   ]
  },
  {
   "cell_type": "code",
   "execution_count": null,
   "metadata": {
    "colab": {
     "base_uri": "https://localhost:8080/"
    },
    "id": "k2YwiOfwpjf8",
    "outputId": "b663d155-859d-4cf4-a778-45ccd3600cf7"
   },
   "outputs": [
    {
     "data": {
      "text/plain": [
       "(799, 128, 660)"
      ]
     },
     "execution_count": 7,
     "metadata": {
      "tags": []
     },
     "output_type": "execute_result"
    }
   ],
   "source": [
    "X_train.shape"
   ]
  },
  {
   "cell_type": "markdown",
   "metadata": {
    "id": "aV2yA6ympjf8"
   },
   "source": [
    "#### Reshaping images to be 128 x 660 x 1, where the 1 represents the single color channel"
   ]
  },
  {
   "cell_type": "code",
   "execution_count": null,
   "metadata": {
    "id": "1kMFpuHg8YoU"
   },
   "outputs": [],
   "source": [
    "X_train = X_train.reshape(X_train.shape[0], 128, 660, 1)\n",
    "X_test = X_test.reshape(X_test.shape[0], 128, 660, 1)"
   ]
  },
  {
   "cell_type": "markdown",
   "metadata": {
    "id": "Sssi34Xlpjf8"
   },
   "source": [
    "#### One hot encoding our labels"
   ]
  },
  {
   "cell_type": "code",
   "execution_count": null,
   "metadata": {
    "id": "sv3exWT18ZxC"
   },
   "outputs": [],
   "source": [
    "y_train = to_categorical(y_train, 10)\n",
    "y_test = to_categorical(y_test, 10)"
   ]
  },
  {
   "cell_type": "code",
   "execution_count": null,
   "metadata": {
    "colab": {
     "base_uri": "https://localhost:8080/"
    },
    "id": "PqMjxYbD68vz",
    "outputId": "9b51095e-0b91-4727-c151-26e40d14fda6"
   },
   "outputs": [
    {
     "name": "stdout",
     "output_type": "stream",
     "text": [
      "Collecting keras-tuner\n",
      "\u001b[?25l  Downloading https://files.pythonhosted.org/packages/20/ec/1ef246787174b1e2bb591c95f29d3c1310070cad877824f907faba3dade9/keras-tuner-1.0.2.tar.gz (62kB)\n",
      "\r",
      "\u001b[K     |█████▏                          | 10kB 20.4MB/s eta 0:00:01\r",
      "\u001b[K     |██████████▍                     | 20kB 17.1MB/s eta 0:00:01\r",
      "\u001b[K     |███████████████▋                | 30kB 14.3MB/s eta 0:00:01\r",
      "\u001b[K     |████████████████████▉           | 40kB 13.4MB/s eta 0:00:01\r",
      "\u001b[K     |██████████████████████████      | 51kB 9.6MB/s eta 0:00:01\r",
      "\u001b[K     |███████████████████████████████▎| 61kB 10.3MB/s eta 0:00:01\r",
      "\u001b[K     |████████████████████████████████| 71kB 6.5MB/s \n",
      "\u001b[?25hRequirement already satisfied, skipping upgrade: packaging in /usr/local/lib/python3.6/dist-packages (from keras-tuner) (20.4)\n",
      "Requirement already satisfied, skipping upgrade: future in /usr/local/lib/python3.6/dist-packages (from keras-tuner) (0.16.0)\n",
      "Requirement already satisfied, skipping upgrade: numpy in /usr/local/lib/python3.6/dist-packages (from keras-tuner) (1.18.5)\n",
      "Requirement already satisfied, skipping upgrade: tabulate in /usr/local/lib/python3.6/dist-packages (from keras-tuner) (0.8.7)\n",
      "Collecting terminaltables\n",
      "  Downloading https://files.pythonhosted.org/packages/9b/c4/4a21174f32f8a7e1104798c445dacdc1d4df86f2f26722767034e4de4bff/terminaltables-3.1.0.tar.gz\n",
      "Collecting colorama\n",
      "  Downloading https://files.pythonhosted.org/packages/44/98/5b86278fbbf250d239ae0ecb724f8572af1c91f4a11edf4d36a206189440/colorama-0.4.4-py2.py3-none-any.whl\n",
      "Requirement already satisfied, skipping upgrade: tqdm in /usr/local/lib/python3.6/dist-packages (from keras-tuner) (4.41.1)\n",
      "Requirement already satisfied, skipping upgrade: requests in /usr/local/lib/python3.6/dist-packages (from keras-tuner) (2.23.0)\n",
      "Requirement already satisfied, skipping upgrade: scipy in /usr/local/lib/python3.6/dist-packages (from keras-tuner) (1.4.1)\n",
      "Requirement already satisfied, skipping upgrade: scikit-learn in /usr/local/lib/python3.6/dist-packages (from keras-tuner) (0.22.2.post1)\n",
      "Requirement already satisfied, skipping upgrade: pyparsing>=2.0.2 in /usr/local/lib/python3.6/dist-packages (from packaging->keras-tuner) (2.4.7)\n",
      "Requirement already satisfied, skipping upgrade: six in /usr/local/lib/python3.6/dist-packages (from packaging->keras-tuner) (1.15.0)\n",
      "Requirement already satisfied, skipping upgrade: idna<3,>=2.5 in /usr/local/lib/python3.6/dist-packages (from requests->keras-tuner) (2.10)\n",
      "Requirement already satisfied, skipping upgrade: certifi>=2017.4.17 in /usr/local/lib/python3.6/dist-packages (from requests->keras-tuner) (2020.11.8)\n",
      "Requirement already satisfied, skipping upgrade: urllib3!=1.25.0,!=1.25.1,<1.26,>=1.21.1 in /usr/local/lib/python3.6/dist-packages (from requests->keras-tuner) (1.24.3)\n",
      "Requirement already satisfied, skipping upgrade: chardet<4,>=3.0.2 in /usr/local/lib/python3.6/dist-packages (from requests->keras-tuner) (3.0.4)\n",
      "Requirement already satisfied, skipping upgrade: joblib>=0.11 in /usr/local/lib/python3.6/dist-packages (from scikit-learn->keras-tuner) (0.17.0)\n",
      "Building wheels for collected packages: keras-tuner, terminaltables\n",
      "  Building wheel for keras-tuner (setup.py) ... \u001b[?25l\u001b[?25hdone\n",
      "  Created wheel for keras-tuner: filename=keras_tuner-1.0.2-cp36-none-any.whl size=78937 sha256=91fdc620e8883df70f10aa731bad353e2ba86affa50ba690095b4ccb8d06d931\n",
      "  Stored in directory: /root/.cache/pip/wheels/bb/a1/8a/7c3de0efb3707a1701b36ebbfdbc4e67aedf6d4943a1f463d6\n",
      "  Building wheel for terminaltables (setup.py) ... \u001b[?25l\u001b[?25hdone\n",
      "  Created wheel for terminaltables: filename=terminaltables-3.1.0-cp36-none-any.whl size=15356 sha256=91d554005dba520db5e0927994aaf44e04f2147c26abd90f668289f61b0d4468\n",
      "  Stored in directory: /root/.cache/pip/wheels/30/6b/50/6c75775b681fb36cdfac7f19799888ef9d8813aff9e379663e\n",
      "Successfully built keras-tuner terminaltables\n",
      "Installing collected packages: terminaltables, colorama, keras-tuner\n",
      "Successfully installed colorama-0.4.4 keras-tuner-1.0.2 terminaltables-3.1.0\n"
     ]
    }
   ],
   "source": [
    "!pip install -U keras-tuner"
   ]
  },
  {
   "cell_type": "markdown",
   "metadata": {
    "id": "OvhOQwEnpjf8"
   },
   "source": [
    "### Define the Keras Tuner Hypermodels"
   ]
  },
  {
   "cell_type": "code",
   "execution_count": null,
   "metadata": {
    "id": "kE-Osa2Apjf8"
   },
   "outputs": [],
   "source": [
    "from tensorflow import keras\n",
    "from tensorflow.keras import layers\n",
    "from kerastuner.tuners import RandomSearch\n",
    "from kerastuner import HyperModel\n",
    "\n",
    "class CRNNHyperModel(HyperModel):\n",
    "    def __init__(self, input_shape, num_classes):\n",
    "        self.input_shape = input_shape\n",
    "        self.num_classes = num_classes\n",
    "\n",
    "    def build(self, hp):\n",
    "        model = keras.Sequential()\n",
    "        model.add(\n",
    "            Conv2D(\n",
    "                filters=64,\n",
    "                kernel_size=(3,3),\n",
    "                activation=hp.Choice(\n",
    "                    'Conv_activation',\n",
    "                    values=['relu', 'tanh', 'elu', 'sigmoid'],\n",
    "                    default='elu'\n",
    "                ),\n",
    "                input_shape=self.input_shape\n",
    "            )\n",
    "        )\n",
    "        model.add(BatchNormalization())\n",
    "        model.add(MaxPooling2D(pool_size=(2,2)))\n",
    "        model.add(Dropout(0.1))\n",
    "        model.add(\n",
    "            Conv2D(\n",
    "                filters=128,\n",
    "                kernel_size=(3,3),\n",
    "                activation=hp.Choice(\n",
    "                    'Conv2_activation',\n",
    "                    values=['relu', 'tanh', 'elu', 'sigmoid'],\n",
    "                    default='elu'\n",
    "                ),\n",
    "                input_shape=self.input_shape\n",
    "            )\n",
    "        )\n",
    "        model.add(BatchNormalization())\n",
    "        model.add(MaxPooling2D(pool_size=(2,2)))\n",
    "        model.add(Dropout(0.1))\n",
    "        model.add(\n",
    "            Conv2D(\n",
    "                filters=128,\n",
    "                kernel_size=(3,3),\n",
    "                activation=hp.Choice(\n",
    "                    'Conv3_activation',\n",
    "                    values=['relu', 'tanh', 'elu', 'sigmoid'],\n",
    "                    default='elu'\n",
    "                ),\n",
    "                input_shape=self.input_shape\n",
    "            )\n",
    "        )\n",
    "        model.add(BatchNormalization())\n",
    "        model.add(MaxPooling2D(pool_size=(2,2)))\n",
    "        model.add(Dropout(0.1))\n",
    "        model.add(\n",
    "            Conv2D(\n",
    "                filters=128,\n",
    "                kernel_size=(3,3),\n",
    "                activation=hp.Choice(\n",
    "                    'Conv4_activation',\n",
    "                    values=['relu', 'tanh', 'elu', 'sigmoid'],\n",
    "                    default='elu'\n",
    "                ),\n",
    "                input_shape=self.input_shape\n",
    "            )\n",
    "        )\n",
    "        model.add(BatchNormalization())\n",
    "        model.add(MaxPooling2D(pool_size=(2,2)))\n",
    "        model.add(Dropout(0.1))\n",
    "        resize_shape = model.output_shape[2] * model.output_shape[3]\n",
    "        model.add(Reshape((model.output_shape[1], resize_shape)))\n",
    "        model.add(GRU(64, return_sequences=True, activation=hp.Choice(\n",
    "                    'GRU1_activation',\n",
    "                    values=['relu', 'tanh', 'elu', 'sigmoid'],\n",
    "                    default='relu'\n",
    "                )))\n",
    "        model.add(GRU(64, return_sequences=False, activation=hp.Choice(\n",
    "                    'GRU2_activation',\n",
    "                    values=['relu', 'tanh', 'elu', 'sigmoid'],\n",
    "                    default='relu'\n",
    "                )))\n",
    "        model.add(Dense(self.num_classes, activation='softmax'))\n",
    "\n",
    "        model.compile(\n",
    "            optimizer=keras.optimizers.Adam(\n",
    "                hp.Float(\n",
    "                    'learning_rate',\n",
    "                    min_value=1e-4,\n",
    "                    max_value=1e-2,\n",
    "                    sampling='LOG',\n",
    "                    default=1e-3\n",
    "                )\n",
    "            ),\n",
    "            loss='categorical_crossentropy',\n",
    "            metrics=['accuracy']\n",
    "        )\n",
    "        return model"
   ]
  },
  {
   "cell_type": "markdown",
   "metadata": {
    "id": "W29wgTAYpjf8"
   },
   "source": [
    "### Setting up Random Search Optimization"
   ]
  },
  {
   "cell_type": "code",
   "execution_count": null,
   "metadata": {
    "id": "2e6jC60L868w"
   },
   "outputs": [],
   "source": [
    "NUM_CLASSES = 10\n",
    "INPUT_SHAPE = (128, 660, 1)\n",
    "SEED = 2\n",
    "HYPERBAND_MAX_EPOCHS = 25\n",
    "MAX_TRIALS = 20\n",
    "EXECUTION_PER_TRIAL = 2\n",
    "\n",
    "hypermodel = CRNNHyperModel(input_shape=INPUT_SHAPE, num_classes=NUM_CLASSES)\n",
    "\n",
    "tuner = RandomSearch(\n",
    "    hypermodel,\n",
    "    objective='val_accuracy',\n",
    "    seed=SEED,\n",
    "    max_trials=MAX_TRIALS,\n",
    "    executions_per_trial=EXECUTION_PER_TRIAL,\n",
    "    directory='random_search',\n",
    "    project_name='research_project'\n",
    ")"
   ]
  },
  {
   "cell_type": "markdown",
   "metadata": {
    "id": "6jaTQfvrpjf8"
   },
   "source": [
    "#### Search Space Summary"
   ]
  },
  {
   "cell_type": "code",
   "execution_count": null,
   "metadata": {
    "colab": {
     "base_uri": "https://localhost:8080/"
    },
    "id": "9-IlQ6MKpjf8",
    "outputId": "ddc50cfe-0b59-4e76-998f-241e46a7b614"
   },
   "outputs": [
    {
     "name": "stdout",
     "output_type": "stream",
     "text": [
      "Search space summary\n",
      "Default search space size: 7\n",
      "Conv_activation (Choice)\n",
      "{'default': 'elu', 'conditions': [], 'values': ['relu', 'tanh', 'elu', 'sigmoid'], 'ordered': False}\n",
      "Conv2_activation (Choice)\n",
      "{'default': 'elu', 'conditions': [], 'values': ['relu', 'tanh', 'elu', 'sigmoid'], 'ordered': False}\n",
      "Conv3_activation (Choice)\n",
      "{'default': 'elu', 'conditions': [], 'values': ['relu', 'tanh', 'elu', 'sigmoid'], 'ordered': False}\n",
      "Conv4_activation (Choice)\n",
      "{'default': 'elu', 'conditions': [], 'values': ['relu', 'tanh', 'elu', 'sigmoid'], 'ordered': False}\n",
      "GRU1_activation (Choice)\n",
      "{'default': 'relu', 'conditions': [], 'values': ['relu', 'tanh', 'elu', 'sigmoid'], 'ordered': False}\n",
      "GRU2_activation (Choice)\n",
      "{'default': 'relu', 'conditions': [], 'values': ['relu', 'tanh', 'elu', 'sigmoid'], 'ordered': False}\n",
      "learning_rate (Float)\n",
      "{'default': 0.001, 'conditions': [], 'min_value': 0.0001, 'max_value': 0.01, 'step': None, 'sampling': 'log'}\n"
     ]
    }
   ],
   "source": [
    "tuner.search_space_summary()"
   ]
  },
  {
   "cell_type": "markdown",
   "metadata": {
    "id": "FmI2pUEtpjf8"
   },
   "source": [
    "### Hyperparameter tuning"
   ]
  },
  {
   "cell_type": "code",
   "execution_count": null,
   "metadata": {
    "colab": {
     "base_uri": "https://localhost:8080/"
    },
    "id": "MU7C6hSZpjf8",
    "outputId": "4f2a5e15-18f1-4742-f351-3f3db03b9638"
   },
   "outputs": [
    {
     "name": "stdout",
     "output_type": "stream",
     "text": [
      "Trial 20 Complete [00h 04m 57s]\n",
      "val_accuracy: 0.512499988079071\n",
      "\n",
      "Best val_accuracy So Far: 0.643750011920929\n",
      "Total elapsed time: 01h 38m 36s\n",
      "INFO:tensorflow:Oracle triggered exit\n"
     ]
    }
   ],
   "source": [
    "N_EPOCH_SEARCH = 25\n",
    "\n",
    "tuner.search(X_train, y_train, epochs=N_EPOCH_SEARCH, validation_split=0.1)"
   ]
  },
  {
   "cell_type": "markdown",
   "metadata": {
    "id": "EUkbqZ7Lpjf8"
   },
   "source": [
    "### Show a summary of the Random Search"
   ]
  },
  {
   "cell_type": "code",
   "execution_count": null,
   "metadata": {
    "colab": {
     "base_uri": "https://localhost:8080/"
    },
    "id": "ggZCT3yEpjf8",
    "outputId": "6e29e6b2-345e-45e5-eb74-72a613596a1b"
   },
   "outputs": [
    {
     "name": "stdout",
     "output_type": "stream",
     "text": [
      "Results summary\n",
      "Results in random_search/research_project\n",
      "Showing 10 best trials\n",
      "Objective(name='val_accuracy', direction='max')\n",
      "Trial summary\n",
      "Hyperparameters:\n",
      "Conv_activation: elu\n",
      "Conv2_activation: relu\n",
      "Conv3_activation: relu\n",
      "Conv4_activation: tanh\n",
      "GRU1_activation: elu\n",
      "GRU2_activation: elu\n",
      "learning_rate: 0.0004543609940965399\n",
      "Score: 0.643750011920929\n",
      "Trial summary\n",
      "Hyperparameters:\n",
      "Conv_activation: relu\n",
      "Conv2_activation: tanh\n",
      "Conv3_activation: tanh\n",
      "Conv4_activation: elu\n",
      "GRU1_activation: relu\n",
      "GRU2_activation: elu\n",
      "learning_rate: 0.00028406107009737317\n",
      "Score: 0.637499988079071\n",
      "Trial summary\n",
      "Hyperparameters:\n",
      "Conv_activation: relu\n",
      "Conv2_activation: sigmoid\n",
      "Conv3_activation: tanh\n",
      "Conv4_activation: sigmoid\n",
      "GRU1_activation: sigmoid\n",
      "GRU2_activation: relu\n",
      "learning_rate: 0.00011942731780421024\n",
      "Score: 0.625\n",
      "Trial summary\n",
      "Hyperparameters:\n",
      "Conv_activation: sigmoid\n",
      "Conv2_activation: relu\n",
      "Conv3_activation: relu\n",
      "Conv4_activation: sigmoid\n",
      "GRU1_activation: relu\n",
      "GRU2_activation: relu\n",
      "learning_rate: 0.00044412650444693207\n",
      "Score: 0.6187500059604645\n",
      "Trial summary\n",
      "Hyperparameters:\n",
      "Conv_activation: relu\n",
      "Conv2_activation: tanh\n",
      "Conv3_activation: relu\n",
      "Conv4_activation: elu\n",
      "GRU1_activation: tanh\n",
      "GRU2_activation: relu\n",
      "learning_rate: 0.0001227867741533623\n",
      "Score: 0.612500011920929\n",
      "Trial summary\n",
      "Hyperparameters:\n",
      "Conv_activation: tanh\n",
      "Conv2_activation: elu\n",
      "Conv3_activation: sigmoid\n",
      "Conv4_activation: tanh\n",
      "GRU1_activation: sigmoid\n",
      "GRU2_activation: elu\n",
      "learning_rate: 0.00025071332274895686\n",
      "Score: 0.6124999821186066\n",
      "Trial summary\n",
      "Hyperparameters:\n",
      "Conv_activation: tanh\n",
      "Conv2_activation: elu\n",
      "Conv3_activation: tanh\n",
      "Conv4_activation: tanh\n",
      "GRU1_activation: relu\n",
      "GRU2_activation: relu\n",
      "learning_rate: 0.00012165541012624621\n",
      "Score: 0.5875000059604645\n",
      "Trial summary\n",
      "Hyperparameters:\n",
      "Conv_activation: relu\n",
      "Conv2_activation: tanh\n",
      "Conv3_activation: sigmoid\n",
      "Conv4_activation: relu\n",
      "GRU1_activation: tanh\n",
      "GRU2_activation: relu\n",
      "learning_rate: 0.0006951671294413008\n",
      "Score: 0.5812499821186066\n",
      "Trial summary\n",
      "Hyperparameters:\n",
      "Conv_activation: sigmoid\n",
      "Conv2_activation: elu\n",
      "Conv3_activation: relu\n",
      "Conv4_activation: elu\n",
      "GRU1_activation: elu\n",
      "GRU2_activation: relu\n",
      "learning_rate: 0.0009887195863122636\n",
      "Score: 0.5250000059604645\n",
      "Trial summary\n",
      "Hyperparameters:\n",
      "Conv_activation: elu\n",
      "Conv2_activation: sigmoid\n",
      "Conv3_activation: relu\n",
      "Conv4_activation: tanh\n",
      "GRU1_activation: relu\n",
      "GRU2_activation: relu\n",
      "learning_rate: 0.001083033272419774\n",
      "Score: 0.512499988079071\n"
     ]
    }
   ],
   "source": [
    "tuner.results_summary()"
   ]
  },
  {
   "cell_type": "markdown",
   "metadata": {
    "id": "u9F7jxL1pjf8"
   },
   "source": [
    "### Retrieve the best model."
   ]
  },
  {
   "cell_type": "code",
   "execution_count": null,
   "metadata": {
    "id": "E43nEYZ6pjf8"
   },
   "outputs": [],
   "source": [
    "best_model = tuner.get_best_models(num_models=1)[0]"
   ]
  },
  {
   "cell_type": "markdown",
   "metadata": {
    "id": "AVwCI1Aipjf8"
   },
   "source": [
    "### Evaluate the model"
   ]
  },
  {
   "cell_type": "code",
   "execution_count": null,
   "metadata": {
    "colab": {
     "base_uri": "https://localhost:8080/"
    },
    "id": "cq-G3CtCpjf8",
    "outputId": "cea0774a-47f8-41e1-91bc-557d69c6371b"
   },
   "outputs": [
    {
     "name": "stdout",
     "output_type": "stream",
     "text": [
      "7/7 - 1s - loss: 1.5277 - accuracy: 0.6400\n"
     ]
    }
   ],
   "source": [
    "test_loss, test_acc = best_model.evaluate(X_test, y_test, verbose=2)"
   ]
  },
  {
   "cell_type": "markdown",
   "metadata": {
    "id": "TUK4c6Zcpjf8"
   },
   "source": [
    "#### Print Model Accuracy"
   ]
  },
  {
   "cell_type": "code",
   "execution_count": null,
   "metadata": {
    "colab": {
     "base_uri": "https://localhost:8080/"
    },
    "id": "O5SZ8Gnhpjf9",
    "outputId": "61eeabaa-81da-4f50-aa8b-9bf8853d6b6d"
   },
   "outputs": [
    {
     "name": "stdout",
     "output_type": "stream",
     "text": [
      "0.6399999856948853\n"
     ]
    }
   ],
   "source": [
    "print(test_acc)"
   ]
  },
  {
   "cell_type": "markdown",
   "metadata": {
    "id": "vB7E4qeepjf9"
   },
   "source": [
    "### Making predictions with the best CRNN model"
   ]
  },
  {
   "cell_type": "code",
   "execution_count": null,
   "metadata": {
    "colab": {
     "base_uri": "https://localhost:8080/"
    },
    "id": "nrC6khHGpjf9",
    "outputId": "1dd960a0-962f-4fa7-fd4d-91cf24875c87"
   },
   "outputs": [
    {
     "name": "stdout",
     "output_type": "stream",
     "text": [
      "2/7 [=======>......................] - ETA: 0sWARNING:tensorflow:Callbacks method `on_predict_batch_end` is slow compared to the batch time (batch time: 0.0073s vs `on_predict_batch_end` time: 0.0565s). Check your callbacks.\n",
      "7/7 [==============================] - 0s 58ms/step\n"
     ]
    }
   ],
   "source": [
    "predictions = best_model.predict(X_test, verbose=1)"
   ]
  },
  {
   "cell_type": "markdown",
   "metadata": {
    "id": "XsQK6UCzpjf9"
   },
   "source": [
    "### CRNN Confusion Matrix"
   ]
  },
  {
   "cell_type": "code",
   "execution_count": null,
   "metadata": {
    "colab": {
     "base_uri": "https://localhost:8080/"
    },
    "id": "2uFrvvrUpjf9",
    "outputId": "979494ff-8563-4db8-b511-e12deb0980aa"
   },
   "outputs": [
    {
     "data": {
      "text/plain": [
       "array([[13,  0,  1,  2,  0,  2,  0,  0,  0,  2],\n",
       "       [ 0, 15,  0,  0,  0,  1,  0,  0,  0,  4],\n",
       "       [ 1,  2,  8,  1,  0,  1,  0,  2,  0,  5],\n",
       "       [ 0,  1,  1, 12,  1,  0,  0,  1,  0,  4],\n",
       "       [ 2,  0,  0,  2, 14,  0,  0,  2,  0,  0],\n",
       "       [ 1,  1,  3,  1,  0, 14,  0,  0,  0,  0],\n",
       "       [ 0,  0,  0,  0,  1,  0, 16,  0,  0,  3],\n",
       "       [ 0,  0,  1,  3,  0,  0,  0, 14,  1,  1],\n",
       "       [ 0,  0,  0,  4,  1,  1,  0,  3, 11,  0],\n",
       "       [ 0,  0,  4,  2,  1,  1,  0,  1,  0, 11]])"
      ]
     },
     "execution_count": 20,
     "metadata": {
      "tags": []
     },
     "output_type": "execute_result"
    }
   ],
   "source": [
    "conf_matrix = confusion_matrix(np.argmax(y_test, 1), np.argmax(predictions, 1))\n",
    "conf_matrix"
   ]
  },
  {
   "cell_type": "code",
   "execution_count": null,
   "metadata": {
    "colab": {
     "base_uri": "https://localhost:8080/",
     "height": 343
    },
    "id": "rFpdwocqpjf9",
    "outputId": "e3671a84-6c05-4657-d573-3855307a99d5"
   },
   "outputs": [
    {
     "data": {
      "text/html": [
       "<div>\n",
       "<style scoped>\n",
       "    .dataframe tbody tr th:only-of-type {\n",
       "        vertical-align: middle;\n",
       "    }\n",
       "\n",
       "    .dataframe tbody tr th {\n",
       "        vertical-align: top;\n",
       "    }\n",
       "\n",
       "    .dataframe thead th {\n",
       "        text-align: right;\n",
       "    }\n",
       "</style>\n",
       "<table border=\"1\" class=\"dataframe\">\n",
       "  <thead>\n",
       "    <tr style=\"text-align: right;\">\n",
       "      <th></th>\n",
       "      <th>0</th>\n",
       "      <th>1</th>\n",
       "      <th>2</th>\n",
       "      <th>3</th>\n",
       "      <th>4</th>\n",
       "      <th>5</th>\n",
       "      <th>6</th>\n",
       "      <th>7</th>\n",
       "      <th>8</th>\n",
       "      <th>9</th>\n",
       "    </tr>\n",
       "  </thead>\n",
       "  <tbody>\n",
       "    <tr>\n",
       "      <th>0</th>\n",
       "      <td>13</td>\n",
       "      <td>0</td>\n",
       "      <td>1</td>\n",
       "      <td>2</td>\n",
       "      <td>0</td>\n",
       "      <td>2</td>\n",
       "      <td>0</td>\n",
       "      <td>0</td>\n",
       "      <td>0</td>\n",
       "      <td>2</td>\n",
       "    </tr>\n",
       "    <tr>\n",
       "      <th>1</th>\n",
       "      <td>0</td>\n",
       "      <td>15</td>\n",
       "      <td>0</td>\n",
       "      <td>0</td>\n",
       "      <td>0</td>\n",
       "      <td>1</td>\n",
       "      <td>0</td>\n",
       "      <td>0</td>\n",
       "      <td>0</td>\n",
       "      <td>4</td>\n",
       "    </tr>\n",
       "    <tr>\n",
       "      <th>2</th>\n",
       "      <td>1</td>\n",
       "      <td>2</td>\n",
       "      <td>8</td>\n",
       "      <td>1</td>\n",
       "      <td>0</td>\n",
       "      <td>1</td>\n",
       "      <td>0</td>\n",
       "      <td>2</td>\n",
       "      <td>0</td>\n",
       "      <td>5</td>\n",
       "    </tr>\n",
       "    <tr>\n",
       "      <th>3</th>\n",
       "      <td>0</td>\n",
       "      <td>1</td>\n",
       "      <td>1</td>\n",
       "      <td>12</td>\n",
       "      <td>1</td>\n",
       "      <td>0</td>\n",
       "      <td>0</td>\n",
       "      <td>1</td>\n",
       "      <td>0</td>\n",
       "      <td>4</td>\n",
       "    </tr>\n",
       "    <tr>\n",
       "      <th>4</th>\n",
       "      <td>2</td>\n",
       "      <td>0</td>\n",
       "      <td>0</td>\n",
       "      <td>2</td>\n",
       "      <td>14</td>\n",
       "      <td>0</td>\n",
       "      <td>0</td>\n",
       "      <td>2</td>\n",
       "      <td>0</td>\n",
       "      <td>0</td>\n",
       "    </tr>\n",
       "    <tr>\n",
       "      <th>5</th>\n",
       "      <td>1</td>\n",
       "      <td>1</td>\n",
       "      <td>3</td>\n",
       "      <td>1</td>\n",
       "      <td>0</td>\n",
       "      <td>14</td>\n",
       "      <td>0</td>\n",
       "      <td>0</td>\n",
       "      <td>0</td>\n",
       "      <td>0</td>\n",
       "    </tr>\n",
       "    <tr>\n",
       "      <th>6</th>\n",
       "      <td>0</td>\n",
       "      <td>0</td>\n",
       "      <td>0</td>\n",
       "      <td>0</td>\n",
       "      <td>1</td>\n",
       "      <td>0</td>\n",
       "      <td>16</td>\n",
       "      <td>0</td>\n",
       "      <td>0</td>\n",
       "      <td>3</td>\n",
       "    </tr>\n",
       "    <tr>\n",
       "      <th>7</th>\n",
       "      <td>0</td>\n",
       "      <td>0</td>\n",
       "      <td>1</td>\n",
       "      <td>3</td>\n",
       "      <td>0</td>\n",
       "      <td>0</td>\n",
       "      <td>0</td>\n",
       "      <td>14</td>\n",
       "      <td>1</td>\n",
       "      <td>1</td>\n",
       "    </tr>\n",
       "    <tr>\n",
       "      <th>8</th>\n",
       "      <td>0</td>\n",
       "      <td>0</td>\n",
       "      <td>0</td>\n",
       "      <td>4</td>\n",
       "      <td>1</td>\n",
       "      <td>1</td>\n",
       "      <td>0</td>\n",
       "      <td>3</td>\n",
       "      <td>11</td>\n",
       "      <td>0</td>\n",
       "    </tr>\n",
       "    <tr>\n",
       "      <th>9</th>\n",
       "      <td>0</td>\n",
       "      <td>0</td>\n",
       "      <td>4</td>\n",
       "      <td>2</td>\n",
       "      <td>1</td>\n",
       "      <td>1</td>\n",
       "      <td>0</td>\n",
       "      <td>1</td>\n",
       "      <td>0</td>\n",
       "      <td>11</td>\n",
       "    </tr>\n",
       "  </tbody>\n",
       "</table>\n",
       "</div>"
      ],
      "text/plain": [
       "    0   1  2   3   4   5   6   7   8   9\n",
       "0  13   0  1   2   0   2   0   0   0   2\n",
       "1   0  15  0   0   0   1   0   0   0   4\n",
       "2   1   2  8   1   0   1   0   2   0   5\n",
       "3   0   1  1  12   1   0   0   1   0   4\n",
       "4   2   0  0   2  14   0   0   2   0   0\n",
       "5   1   1  3   1   0  14   0   0   0   0\n",
       "6   0   0  0   0   1   0  16   0   0   3\n",
       "7   0   0  1   3   0   0   0  14   1   1\n",
       "8   0   0  0   4   1   1   0   3  11   0\n",
       "9   0   0  4   2   1   1   0   1   0  11"
      ]
     },
     "execution_count": 21,
     "metadata": {
      "tags": []
     },
     "output_type": "execute_result"
    }
   ],
   "source": [
    "confusion_df = pd.DataFrame(conf_matrix)\n",
    "confusion_df"
   ]
  },
  {
   "cell_type": "markdown",
   "metadata": {
    "id": "loDHg3MJpjf9"
   },
   "source": [
    "#### Matching the Encoded Labels "
   ]
  },
  {
   "cell_type": "code",
   "execution_count": null,
   "metadata": {
    "id": "roRFCU5upjf9"
   },
   "outputs": [],
   "source": [
    "labels_dict = {\n",
    "        0: 'blues',\n",
    "        1: 'classical',\n",
    "        2: 'country',\n",
    "        3: 'disco',\n",
    "        4: 'hiphop',\n",
    "        5: 'jazz',\n",
    "        6: 'metal',\n",
    "        7: 'pop',\n",
    "        8: 'reggae',\n",
    "        9: 'rock'\n",
    "    }"
   ]
  },
  {
   "cell_type": "code",
   "execution_count": null,
   "metadata": {
    "id": "zmVlxUY_pjf9"
   },
   "outputs": [],
   "source": [
    "confusion_df = confusion_df.rename(columns=labels_dict, index=labels_dict)"
   ]
  },
  {
   "cell_type": "code",
   "execution_count": null,
   "metadata": {
    "colab": {
     "base_uri": "https://localhost:8080/",
     "height": 343
    },
    "id": "nO3sqbSVpjf9",
    "outputId": "711a5a96-473d-4780-ff10-8674d116a33f"
   },
   "outputs": [
    {
     "data": {
      "text/html": [
       "<div>\n",
       "<style scoped>\n",
       "    .dataframe tbody tr th:only-of-type {\n",
       "        vertical-align: middle;\n",
       "    }\n",
       "\n",
       "    .dataframe tbody tr th {\n",
       "        vertical-align: top;\n",
       "    }\n",
       "\n",
       "    .dataframe thead th {\n",
       "        text-align: right;\n",
       "    }\n",
       "</style>\n",
       "<table border=\"1\" class=\"dataframe\">\n",
       "  <thead>\n",
       "    <tr style=\"text-align: right;\">\n",
       "      <th></th>\n",
       "      <th>blues</th>\n",
       "      <th>classical</th>\n",
       "      <th>country</th>\n",
       "      <th>disco</th>\n",
       "      <th>hiphop</th>\n",
       "      <th>jazz</th>\n",
       "      <th>metal</th>\n",
       "      <th>pop</th>\n",
       "      <th>reggae</th>\n",
       "      <th>rock</th>\n",
       "    </tr>\n",
       "  </thead>\n",
       "  <tbody>\n",
       "    <tr>\n",
       "      <th>blues</th>\n",
       "      <td>13</td>\n",
       "      <td>0</td>\n",
       "      <td>1</td>\n",
       "      <td>2</td>\n",
       "      <td>0</td>\n",
       "      <td>2</td>\n",
       "      <td>0</td>\n",
       "      <td>0</td>\n",
       "      <td>0</td>\n",
       "      <td>2</td>\n",
       "    </tr>\n",
       "    <tr>\n",
       "      <th>classical</th>\n",
       "      <td>0</td>\n",
       "      <td>15</td>\n",
       "      <td>0</td>\n",
       "      <td>0</td>\n",
       "      <td>0</td>\n",
       "      <td>1</td>\n",
       "      <td>0</td>\n",
       "      <td>0</td>\n",
       "      <td>0</td>\n",
       "      <td>4</td>\n",
       "    </tr>\n",
       "    <tr>\n",
       "      <th>country</th>\n",
       "      <td>1</td>\n",
       "      <td>2</td>\n",
       "      <td>8</td>\n",
       "      <td>1</td>\n",
       "      <td>0</td>\n",
       "      <td>1</td>\n",
       "      <td>0</td>\n",
       "      <td>2</td>\n",
       "      <td>0</td>\n",
       "      <td>5</td>\n",
       "    </tr>\n",
       "    <tr>\n",
       "      <th>disco</th>\n",
       "      <td>0</td>\n",
       "      <td>1</td>\n",
       "      <td>1</td>\n",
       "      <td>12</td>\n",
       "      <td>1</td>\n",
       "      <td>0</td>\n",
       "      <td>0</td>\n",
       "      <td>1</td>\n",
       "      <td>0</td>\n",
       "      <td>4</td>\n",
       "    </tr>\n",
       "    <tr>\n",
       "      <th>hiphop</th>\n",
       "      <td>2</td>\n",
       "      <td>0</td>\n",
       "      <td>0</td>\n",
       "      <td>2</td>\n",
       "      <td>14</td>\n",
       "      <td>0</td>\n",
       "      <td>0</td>\n",
       "      <td>2</td>\n",
       "      <td>0</td>\n",
       "      <td>0</td>\n",
       "    </tr>\n",
       "    <tr>\n",
       "      <th>jazz</th>\n",
       "      <td>1</td>\n",
       "      <td>1</td>\n",
       "      <td>3</td>\n",
       "      <td>1</td>\n",
       "      <td>0</td>\n",
       "      <td>14</td>\n",
       "      <td>0</td>\n",
       "      <td>0</td>\n",
       "      <td>0</td>\n",
       "      <td>0</td>\n",
       "    </tr>\n",
       "    <tr>\n",
       "      <th>metal</th>\n",
       "      <td>0</td>\n",
       "      <td>0</td>\n",
       "      <td>0</td>\n",
       "      <td>0</td>\n",
       "      <td>1</td>\n",
       "      <td>0</td>\n",
       "      <td>16</td>\n",
       "      <td>0</td>\n",
       "      <td>0</td>\n",
       "      <td>3</td>\n",
       "    </tr>\n",
       "    <tr>\n",
       "      <th>pop</th>\n",
       "      <td>0</td>\n",
       "      <td>0</td>\n",
       "      <td>1</td>\n",
       "      <td>3</td>\n",
       "      <td>0</td>\n",
       "      <td>0</td>\n",
       "      <td>0</td>\n",
       "      <td>14</td>\n",
       "      <td>1</td>\n",
       "      <td>1</td>\n",
       "    </tr>\n",
       "    <tr>\n",
       "      <th>reggae</th>\n",
       "      <td>0</td>\n",
       "      <td>0</td>\n",
       "      <td>0</td>\n",
       "      <td>4</td>\n",
       "      <td>1</td>\n",
       "      <td>1</td>\n",
       "      <td>0</td>\n",
       "      <td>3</td>\n",
       "      <td>11</td>\n",
       "      <td>0</td>\n",
       "    </tr>\n",
       "    <tr>\n",
       "      <th>rock</th>\n",
       "      <td>0</td>\n",
       "      <td>0</td>\n",
       "      <td>4</td>\n",
       "      <td>2</td>\n",
       "      <td>1</td>\n",
       "      <td>1</td>\n",
       "      <td>0</td>\n",
       "      <td>1</td>\n",
       "      <td>0</td>\n",
       "      <td>11</td>\n",
       "    </tr>\n",
       "  </tbody>\n",
       "</table>\n",
       "</div>"
      ],
      "text/plain": [
       "           blues  classical  country  disco  ...  metal  pop  reggae  rock\n",
       "blues         13          0        1      2  ...      0    0       0     2\n",
       "classical      0         15        0      0  ...      0    0       0     4\n",
       "country        1          2        8      1  ...      0    2       0     5\n",
       "disco          0          1        1     12  ...      0    1       0     4\n",
       "hiphop         2          0        0      2  ...      0    2       0     0\n",
       "jazz           1          1        3      1  ...      0    0       0     0\n",
       "metal          0          0        0      0  ...     16    0       0     3\n",
       "pop            0          0        1      3  ...      0   14       1     1\n",
       "reggae         0          0        0      4  ...      0    3      11     0\n",
       "rock           0          0        4      2  ...      0    1       0    11\n",
       "\n",
       "[10 rows x 10 columns]"
      ]
     },
     "execution_count": 24,
     "metadata": {
      "tags": []
     },
     "output_type": "execute_result"
    }
   ],
   "source": [
    "confusion_df"
   ]
  },
  {
   "cell_type": "markdown",
   "metadata": {
    "id": "d6kjQUA6pjf9"
   },
   "source": [
    "#### Creating a heatmap for the confusion matrix for display"
   ]
  },
  {
   "cell_type": "code",
   "execution_count": null,
   "metadata": {
    "colab": {
     "base_uri": "https://localhost:8080/",
     "height": 749
    },
    "id": "GEAIsPVOpjf9",
    "outputId": "a16ec641-7e79-49dd-ffee-00ccdb1af4d2"
   },
   "outputs": [
    {
     "data": {
      "image/png": "[encoded data removed]",
      "text/plain": [
       "<Figure size 1440x864 with 2 Axes>"
      ]
     },
     "metadata": {
      "needs_background": "light",
      "tags": []
     },
     "output_type": "display_data"
    }
   ],
   "source": [
    "plt.figure(figsize= (20,12))\n",
    "sns.set(font_scale = 2);\n",
    "ax = sns.heatmap(confusion_df, annot=True, cmap=sns.cubehelix_palette(rot=-.4));\n",
    "ax.set(xlabel='Predicted Values', ylabel='Actual Values');"
   ]
  },
  {
   "cell_type": "code",
   "execution_count": null,
   "metadata": {
    "colab": {
     "base_uri": "https://localhost:8080/"
    },
    "id": "tOGJqwWEkb-P",
    "outputId": "67683014-9b1c-4b6c-f309-50ecd14f41d8"
   },
   "outputs": [
    {
     "name": "stdout",
     "output_type": "stream",
     "text": [
      "              precision    recall  f1-score   support\n",
      "\n",
      "           0       0.76      0.65      0.70        20\n",
      "           1       0.79      0.75      0.77        20\n",
      "           2       0.44      0.40      0.42        20\n",
      "           3       0.44      0.60      0.51        20\n",
      "           4       0.78      0.70      0.74        20\n",
      "           5       0.70      0.70      0.70        20\n",
      "           6       1.00      0.80      0.89        20\n",
      "           7       0.61      0.70      0.65        20\n",
      "           8       0.92      0.55      0.69        20\n",
      "           9       0.37      0.55      0.44        20\n",
      "\n",
      "    accuracy                           0.64       200\n",
      "   macro avg       0.68      0.64      0.65       200\n",
      "weighted avg       0.68      0.64      0.65       200\n",
      "\n"
     ]
    }
   ],
   "source": [
    "from sklearn.metrics import classification_report\n",
    "\n",
    "print(classification_report(np.argmax(y_test, 1),  np.argmax(predictions, 1)))"
   ]
  }
 ],
 "metadata": {
  "accelerator": "GPU",
  "colab": {
   "name": "CRNN Model - Hyperparameter Tuning (Activation Functions).ipynb",
   "provenance": []
  },
  "kernelspec": {
   "display_name": "Python 3",
   "language": "python",
   "name": "python3"
  },
  "language_info": {
   "codemirror_mode": {
    "name": "ipython",
    "version": 3
   },
   "file_extension": ".py",
   "mimetype": "text/x-python",
   "name": "python",
   "nbconvert_exporter": "python",
   "pygments_lexer": "ipython3",
   "version": "3.7.9"
  }
 },
 "nbformat": 4,
 "nbformat_minor": 1
}
