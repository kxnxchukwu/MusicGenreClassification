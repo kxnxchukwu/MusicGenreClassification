{
 "cells": [
  {
   "cell_type": "markdown",
   "metadata": {
    "id": "1m5MK-ht_HjT"
   },
   "source": [
    "## Import Libraries"
   ]
  },
  {
   "cell_type": "code",
   "execution_count": 1,
   "metadata": {
    "id": "oHSrmFo85hPr"
   },
   "outputs": [],
   "source": [
    "import os\n",
    "import librosa\n",
    "import pandas as pd\n",
    "import numpy as np\n",
    "import seaborn as sns\n",
    "import matplotlib.pyplot as plt\n",
    "import tensorflow as tf\n",
    "from sklearn.model_selection import train_test_split\n",
    "from sklearn.metrics import confusion_matrix\n",
    "from tensorflow.python.keras.models import Sequential\n",
    "from tensorflow.python.keras.layers import Dense, Dropout, Conv2D, MaxPooling2D, GRU, BatchNormalization, Reshape\n",
    "from tensorflow.python.keras import utils\n",
    "from keras.utils import to_categorical\n",
    "from numpy import load"
   ]
  },
  {
   "cell_type": "code",
   "execution_count": 3,
   "metadata": {
    "id": "nSr6Ems3_Hjd"
   },
   "outputs": [],
   "source": [
    "# load Spectrogam array\n",
    "X = load('Data/b_mel_specs.npy')"
   ]
  },
  {
   "cell_type": "code",
   "execution_count": 4,
   "metadata": {
    "id": "MPKop8xS_Hjd"
   },
   "outputs": [],
   "source": [
    "# load Labels array\n",
    "y = load('Data/b_labels.npy')"
   ]
  },
  {
   "cell_type": "markdown",
   "metadata": {
    "id": "yxXHYHI0_Hjd"
   },
   "source": [
    "#### Train test split"
   ]
  },
  {
   "cell_type": "code",
   "execution_count": 5,
   "metadata": {
    "id": "VnVIhzTs8Pfk"
   },
   "outputs": [],
   "source": [
    "X_train, X_test, y_train, y_test = train_test_split(X, y, random_state=42, stratify=y, test_size=.2)"
   ]
  },
  {
   "cell_type": "code",
   "execution_count": 6,
   "metadata": {
    "colab": {
     "base_uri": "https://localhost:8080/"
    },
    "id": "Jav7f73j_Hje",
    "outputId": "126ae560-e0bf-4be7-f9a0-2a512ed1c98c"
   },
   "outputs": [
    {
     "data": {
      "text/plain": [
       "(200, 128, 660)"
      ]
     },
     "execution_count": 6,
     "metadata": {
      "tags": []
     },
     "output_type": "execute_result"
    }
   ],
   "source": [
    "X_test.shape"
   ]
  },
  {
   "cell_type": "code",
   "execution_count": 7,
   "metadata": {
    "colab": {
     "base_uri": "https://localhost:8080/"
    },
    "id": "h40kxngP_Hjg",
    "outputId": "f2263fdb-e1dc-4ceb-e2bd-0df46b0bd8d3"
   },
   "outputs": [
    {
     "data": {
      "text/plain": [
       "(799, 128, 660)"
      ]
     },
     "execution_count": 7,
     "metadata": {
      "tags": []
     },
     "output_type": "execute_result"
    }
   ],
   "source": [
    "X_train.shape"
   ]
  },
  {
   "cell_type": "markdown",
   "metadata": {
    "id": "uolGtuaK_Hjg"
   },
   "source": [
    "#### Reshaping images to be 128 x 660 x 1, where the 1 represents the single color channel"
   ]
  },
  {
   "cell_type": "code",
   "execution_count": 8,
   "metadata": {
    "id": "1kMFpuHg8YoU"
   },
   "outputs": [],
   "source": [
    "X_train = X_train.reshape(X_train.shape[0], 128, 660, 1)\n",
    "X_test = X_test.reshape(X_test.shape[0], 128, 660, 1)"
   ]
  },
  {
   "cell_type": "markdown",
   "metadata": {
    "id": "gL4o-8L2_Hjh"
   },
   "source": [
    "#### One hot encoding our labels"
   ]
  },
  {
   "cell_type": "code",
   "execution_count": 9,
   "metadata": {
    "id": "sv3exWT18ZxC"
   },
   "outputs": [],
   "source": [
    "y_train = to_categorical(y_train, 2)\n",
    "y_test = to_categorical(y_test, 2)"
   ]
  },
  {
   "cell_type": "markdown",
   "metadata": {
    "id": "fMpFuPC6_Hjh"
   },
   "source": [
    "### Define the Convolutional Recurrent Neural Network Model"
   ]
  },
  {
   "cell_type": "code",
   "execution_count": 10,
   "metadata": {
    "id": "Hwwb1m9l_Hji"
   },
   "outputs": [],
   "source": [
    "frequency_axis = 1\n",
    "time_axis = 2\n",
    "channel_axis = 3\n",
    "# Create sequential model\n",
    "model = Sequential(name='CRNN')\n",
    "model.add(Conv2D(64, (3, 3), activation='elu', input_shape=(128, 660, 1)))\n",
    "model.add(BatchNormalization())\n",
    "model.add(MaxPooling2D(pool_size=(2,2)))# Max pooling\n",
    "model.add(Dropout(0.1))\n",
    "model.add(Conv2D(128, (3, 3), activation='elu'))\n",
    "model.add(BatchNormalization())\n",
    "model.add(MaxPooling2D(pool_size=(2,4)))\n",
    "model.add(Dropout(0.1))\n",
    "model.add(Conv2D(128, (3, 3), activation='elu'))\n",
    "model.add(BatchNormalization())\n",
    "model.add(MaxPooling2D(pool_size=(2,4)))\n",
    "model.add(Dropout(0.1))\n",
    "model.add(Conv2D(128, (3, 3), activation='elu'))\n",
    "model.add(BatchNormalization())\n",
    "model.add(MaxPooling2D(pool_size=(2,4)))\n",
    "model.add(Dropout(0.1))\n",
    "resize_shape = model.output_shape[2] * model.output_shape[3]\n",
    "model.add(Reshape((model.output_shape[1], resize_shape)))\n",
    "model.add(GRU(64, return_sequences=True))\n",
    "model.add(GRU(64, return_sequences=False))\n",
    "model.add(Dense(2, activation='softmax')) "
   ]
  },
  {
   "cell_type": "markdown",
   "metadata": {
    "id": "0Z2DVIu8_Hji"
   },
   "source": [
    "### Compile the Model"
   ]
  },
  {
   "cell_type": "code",
   "execution_count": 11,
   "metadata": {
    "id": "tIAL78b18lPj"
   },
   "outputs": [],
   "source": [
    "model.compile(loss='categorical_crossentropy', optimizer='adam', metrics=['accuracy'])"
   ]
  },
  {
   "cell_type": "markdown",
   "metadata": {
    "id": "X6hoQJG7_Hjj"
   },
   "source": [
    "### Model Summary"
   ]
  },
  {
   "cell_type": "code",
   "execution_count": 12,
   "metadata": {
    "colab": {
     "base_uri": "https://localhost:8080/"
    },
    "id": "cw-Brf1z_Hjj",
    "outputId": "649553d5-5af8-4754-d37c-9155edb1023a"
   },
   "outputs": [
    {
     "name": "stdout",
     "output_type": "stream",
     "text": [
      "Model: \"CRNN\"\n",
      "_________________________________________________________________\n",
      "Layer (type)                 Output Shape              Param #   \n",
      "=================================================================\n",
      "conv2d (Conv2D)              (None, 126, 658, 64)      640       \n",
      "_________________________________________________________________\n",
      "batch_normalization (BatchNo (None, 126, 658, 64)      256       \n",
      "_________________________________________________________________\n",
      "max_pooling2d (MaxPooling2D) (None, 63, 329, 64)       0         \n",
      "_________________________________________________________________\n",
      "dropout (Dropout)            (None, 63, 329, 64)       0         \n",
      "_________________________________________________________________\n",
      "conv2d_1 (Conv2D)            (None, 61, 327, 128)      73856     \n",
      "_________________________________________________________________\n",
      "batch_normalization_1 (Batch (None, 61, 327, 128)      512       \n",
      "_________________________________________________________________\n",
      "max_pooling2d_1 (MaxPooling2 (None, 30, 81, 128)       0         \n",
      "_________________________________________________________________\n",
      "dropout_1 (Dropout)          (None, 30, 81, 128)       0         \n",
      "_________________________________________________________________\n",
      "conv2d_2 (Conv2D)            (None, 28, 79, 128)       147584    \n",
      "_________________________________________________________________\n",
      "batch_normalization_2 (Batch (None, 28, 79, 128)       512       \n",
      "_________________________________________________________________\n",
      "max_pooling2d_2 (MaxPooling2 (None, 14, 19, 128)       0         \n",
      "_________________________________________________________________\n",
      "dropout_2 (Dropout)          (None, 14, 19, 128)       0         \n",
      "_________________________________________________________________\n",
      "conv2d_3 (Conv2D)            (None, 12, 17, 128)       147584    \n",
      "_________________________________________________________________\n",
      "batch_normalization_3 (Batch (None, 12, 17, 128)       512       \n",
      "_________________________________________________________________\n",
      "max_pooling2d_3 (MaxPooling2 (None, 6, 4, 128)         0         \n",
      "_________________________________________________________________\n",
      "dropout_3 (Dropout)          (None, 6, 4, 128)         0         \n",
      "_________________________________________________________________\n",
      "reshape (Reshape)            (None, 6, 512)            0         \n",
      "_________________________________________________________________\n",
      "gru (GRU)                    (None, 6, 64)             110784    \n",
      "_________________________________________________________________\n",
      "gru_1 (GRU)                  (None, 64)                24768     \n",
      "_________________________________________________________________\n",
      "dense (Dense)                (None, 2)                 130       \n",
      "=================================================================\n",
      "Total params: 507,138\n",
      "Trainable params: 506,242\n",
      "Non-trainable params: 896\n",
      "_________________________________________________________________\n"
     ]
    }
   ],
   "source": [
    "model.summary()"
   ]
  },
  {
   "cell_type": "markdown",
   "metadata": {
    "id": "gKlFCPGB_Hjj"
   },
   "source": [
    "### Train the model"
   ]
  },
  {
   "cell_type": "code",
   "execution_count": 13,
   "metadata": {
    "colab": {
     "base_uri": "https://localhost:8080/"
    },
    "id": "Ek8U1lb59dX7",
    "outputId": "72f7595b-7587-4f1d-aa37-73c31b50273e"
   },
   "outputs": [
    {
     "name": "stdout",
     "output_type": "stream",
     "text": [
      "Epoch 1/25\n",
      "40/40 [==============================] - ETA: 0s - loss: 0.4567 - accuracy: 0.7947WARNING:tensorflow:Callbacks method `on_test_batch_end` is slow compared to the batch time (batch time: 0.0069s vs `on_test_batch_end` time: 0.0394s). Check your callbacks.\n",
      "40/40 [==============================] - 7s 182ms/step - loss: 0.4567 - accuracy: 0.7947 - val_loss: 0.7599 - val_accuracy: 0.3700\n",
      "Epoch 2/25\n",
      "40/40 [==============================] - 6s 157ms/step - loss: 0.3003 - accuracy: 0.8698 - val_loss: 0.4571 - val_accuracy: 0.7800\n",
      "Epoch 3/25\n",
      "40/40 [==============================] - 6s 157ms/step - loss: 0.2736 - accuracy: 0.8861 - val_loss: 0.4498 - val_accuracy: 0.7900\n",
      "Epoch 4/25\n",
      "40/40 [==============================] - 6s 156ms/step - loss: 0.3200 - accuracy: 0.8573 - val_loss: 0.4601 - val_accuracy: 0.7900\n",
      "Epoch 5/25\n",
      "40/40 [==============================] - 6s 157ms/step - loss: 0.2659 - accuracy: 0.8924 - val_loss: 2.0762 - val_accuracy: 0.4050\n",
      "Epoch 6/25\n",
      "40/40 [==============================] - 6s 159ms/step - loss: 0.2300 - accuracy: 0.9061 - val_loss: 0.8192 - val_accuracy: 0.7450\n",
      "Epoch 7/25\n",
      "40/40 [==============================] - 6s 156ms/step - loss: 0.2054 - accuracy: 0.9174 - val_loss: 0.3807 - val_accuracy: 0.8400\n",
      "Epoch 8/25\n",
      "40/40 [==============================] - 6s 157ms/step - loss: 0.2003 - accuracy: 0.9136 - val_loss: 0.3423 - val_accuracy: 0.8950\n",
      "Epoch 9/25\n",
      "40/40 [==============================] - 6s 160ms/step - loss: 0.1937 - accuracy: 0.9161 - val_loss: 1.7334 - val_accuracy: 0.7000\n",
      "Epoch 10/25\n",
      "40/40 [==============================] - 6s 159ms/step - loss: 0.1821 - accuracy: 0.9399 - val_loss: 0.3415 - val_accuracy: 0.8700\n",
      "Epoch 11/25\n",
      "40/40 [==============================] - 6s 159ms/step - loss: 0.1477 - accuracy: 0.9374 - val_loss: 2.0206 - val_accuracy: 0.7000\n",
      "Epoch 12/25\n",
      "40/40 [==============================] - 6s 157ms/step - loss: 0.1102 - accuracy: 0.9562 - val_loss: 1.7730 - val_accuracy: 0.7100\n",
      "Epoch 13/25\n",
      "40/40 [==============================] - 6s 159ms/step - loss: 0.1546 - accuracy: 0.9399 - val_loss: 0.9926 - val_accuracy: 0.7600\n",
      "Epoch 14/25\n",
      "40/40 [==============================] - 6s 158ms/step - loss: 0.1460 - accuracy: 0.9349 - val_loss: 2.7960 - val_accuracy: 0.3750\n",
      "Epoch 15/25\n",
      "40/40 [==============================] - 6s 159ms/step - loss: 0.1025 - accuracy: 0.9549 - val_loss: 0.4004 - val_accuracy: 0.8550\n",
      "Epoch 16/25\n",
      "40/40 [==============================] - 6s 158ms/step - loss: 0.1120 - accuracy: 0.9650 - val_loss: 1.0015 - val_accuracy: 0.6750\n",
      "Epoch 17/25\n",
      "40/40 [==============================] - 6s 159ms/step - loss: 0.1209 - accuracy: 0.9549 - val_loss: 0.6597 - val_accuracy: 0.8050\n",
      "Epoch 18/25\n",
      "40/40 [==============================] - 6s 160ms/step - loss: 0.1058 - accuracy: 0.9625 - val_loss: 0.4734 - val_accuracy: 0.8450\n",
      "Epoch 19/25\n",
      "40/40 [==============================] - 6s 159ms/step - loss: 0.1036 - accuracy: 0.9612 - val_loss: 0.4166 - val_accuracy: 0.8550\n",
      "Epoch 20/25\n",
      "40/40 [==============================] - 6s 161ms/step - loss: 0.0340 - accuracy: 0.9950 - val_loss: 0.7120 - val_accuracy: 0.8150\n",
      "Epoch 21/25\n",
      "40/40 [==============================] - 6s 160ms/step - loss: 0.0426 - accuracy: 0.9837 - val_loss: 0.5839 - val_accuracy: 0.8500\n",
      "Epoch 22/25\n",
      "40/40 [==============================] - 6s 161ms/step - loss: 0.0293 - accuracy: 0.9912 - val_loss: 0.7385 - val_accuracy: 0.8550\n",
      "Epoch 23/25\n",
      "40/40 [==============================] - 6s 160ms/step - loss: 0.0497 - accuracy: 0.9812 - val_loss: 1.3172 - val_accuracy: 0.7600\n",
      "Epoch 24/25\n",
      "40/40 [==============================] - 6s 159ms/step - loss: 0.0217 - accuracy: 0.9950 - val_loss: 1.1373 - val_accuracy: 0.8050\n",
      "Epoch 25/25\n",
      "40/40 [==============================] - 6s 162ms/step - loss: 0.0486 - accuracy: 0.9825 - val_loss: 0.4428 - val_accuracy: 0.8650\n"
     ]
    }
   ],
   "source": [
    "history = model.fit(X_train, y_train, batch_size=20, validation_data=(X_test, y_test), epochs=25)"
   ]
  },
  {
   "cell_type": "markdown",
   "metadata": {
    "id": "GFjSi1uD_Hjk"
   },
   "source": [
    "### Check the Model's train loss and test loss over epochs."
   ]
  },
  {
   "cell_type": "code",
   "execution_count": 14,
   "metadata": {
    "colab": {
     "base_uri": "https://localhost:8080/",
     "height": 529
    },
    "id": "212KgUfz9qxC",
    "outputId": "c25e438f-ecff-461e-b4f8-4ef5c5b59552"
   },
   "outputs": [
    {
     "data": {
      "image/png": "[encoded data removed]",
      "text/plain": [
       "<Figure size 864x576 with 1 Axes>"
      ]
     },
     "metadata": {
      "needs_background": "light",
      "tags": []
     },
     "output_type": "display_data"
    }
   ],
   "source": [
    "train_loss = history.history['loss']\n",
    "test_loss = history.history['val_loss']\n",
    "\n",
    "# Set figure size.\n",
    "plt.figure(figsize=(12, 8))\n",
    "\n",
    "# Generate line plot of training, testing loss over epochs.\n",
    "plt.plot(train_loss, label='Training Loss', color='blue')\n",
    "plt.plot(test_loss, label='Testing Loss', color='red')\n",
    "\n",
    "# Set title\n",
    "plt.title('Training and Testing Loss by Epoch', fontsize = 25)\n",
    "plt.xlabel('Epoch', fontsize = 18)\n",
    "plt.ylabel('Categorical Crossentropy', fontsize = 18)\n",
    "plt.xticks(range(1,26), range(1,26))\n",
    "\n",
    "plt.legend(fontsize = 18);"
   ]
  },
  {
   "cell_type": "markdown",
   "metadata": {
    "id": "szp1lOFs_Hjl"
   },
   "source": [
    "### Check the Model's train accuracy and test accuracy over epochs."
   ]
  },
  {
   "cell_type": "code",
   "execution_count": 15,
   "metadata": {
    "colab": {
     "base_uri": "https://localhost:8080/",
     "height": 529
    },
    "id": "_a7kBxAB_Hjl",
    "outputId": "e2e754b0-86fe-4ff2-a569-7d8a73b30906"
   },
   "outputs": [
    {
     "data": {
      "image/png": "[encoded data removed]",
      "text/plain": [
       "<Figure size 864x576 with 1 Axes>"
      ]
     },
     "metadata": {
      "needs_background": "light",
      "tags": []
     },
     "output_type": "display_data"
    }
   ],
   "source": [
    "train_loss = history.history['accuracy']\n",
    "test_loss = history.history['val_accuracy']\n",
    "\n",
    "# Set figure size.\n",
    "plt.figure(figsize=(12, 8))\n",
    "\n",
    "# Generate line plot of training, testing loss over epochs.\n",
    "plt.plot(train_loss, label='Training Accuracy', color='blue')\n",
    "plt.plot(test_loss, label='Testing Accuracy', color='red')\n",
    "\n",
    "# Set title\n",
    "plt.title('Training and Testing Accuracy by Epoch', fontsize = 25)\n",
    "plt.xlabel('Epoch', fontsize = 18)\n",
    "plt.ylabel('Accuracy', fontsize = 18)\n",
    "plt.xticks(range(1,26), range(1,26))\n",
    "\n",
    "plt.legend(fontsize = 18);"
   ]
  },
  {
   "cell_type": "markdown",
   "metadata": {
    "id": "KxfMSkX-_Hjl"
   },
   "source": [
    "### Evaluate the model"
   ]
  },
  {
   "cell_type": "code",
   "execution_count": 16,
   "metadata": {
    "colab": {
     "base_uri": "https://localhost:8080/"
    },
    "id": "qVn6kXox_Hjm",
    "outputId": "ab889004-b95b-4b2b-c5fa-f2da1a689bad"
   },
   "outputs": [
    {
     "name": "stdout",
     "output_type": "stream",
     "text": [
      "7/7 - 1s - loss: 0.4428 - accuracy: 0.8650\n"
     ]
    }
   ],
   "source": [
    "test_loss, test_acc = model.evaluate(X_test, y_test, verbose=2)"
   ]
  },
  {
   "cell_type": "code",
   "execution_count": 17,
   "metadata": {
    "colab": {
     "base_uri": "https://localhost:8080/"
    },
    "id": "LO2jCK0u_Hjm",
    "outputId": "afe4aa3e-00c1-4bab-8167-af0a4017cda4"
   },
   "outputs": [
    {
     "name": "stdout",
     "output_type": "stream",
     "text": [
      "0.8650000095367432\n"
     ]
    }
   ],
   "source": [
    "print(test_acc)"
   ]
  },
  {
   "cell_type": "markdown",
   "metadata": {
    "id": "EEBEVsci_Hjm"
   },
   "source": [
    "### Making predictions with the CRNN model"
   ]
  },
  {
   "cell_type": "code",
   "execution_count": 18,
   "metadata": {
    "colab": {
     "base_uri": "https://localhost:8080/"
    },
    "id": "pGdb7b5t_Hjn",
    "outputId": "69165061-f1c5-4fd4-e531-e1767793c49a"
   },
   "outputs": [
    {
     "name": "stdout",
     "output_type": "stream",
     "text": [
      "2/7 [=======>......................] - ETA: 0sWARNING:tensorflow:Callbacks method `on_predict_batch_end` is slow compared to the batch time (batch time: 0.0090s vs `on_predict_batch_end` time: 0.0578s). Check your callbacks.\n",
      "7/7 [==============================] - 0s 59ms/step\n"
     ]
    }
   ],
   "source": [
    "predictions = model.predict(X_test, verbose=1)"
   ]
  },
  {
   "cell_type": "markdown",
   "metadata": {
    "id": "ce6wBnsZ_Hjn"
   },
   "source": [
    "### CRNN Confusion Matrix"
   ]
  },
  {
   "cell_type": "code",
   "execution_count": 19,
   "metadata": {
    "colab": {
     "base_uri": "https://localhost:8080/"
    },
    "id": "z1Mvq8wx_Hjn",
    "outputId": "519ce7d1-92ea-4581-edba-a31fb3478e5d"
   },
   "outputs": [
    {
     "data": {
      "text/plain": [
       "array([[ 49,  11],\n",
       "       [ 16, 124]])"
      ]
     },
     "execution_count": 19,
     "metadata": {
      "tags": []
     },
     "output_type": "execute_result"
    }
   ],
   "source": [
    "conf_matrix = confusion_matrix(np.argmax(y_test, 1), np.argmax(predictions, 1))\n",
    "conf_matrix"
   ]
  },
  {
   "cell_type": "code",
   "execution_count": 20,
   "metadata": {
    "colab": {
     "base_uri": "https://localhost:8080/",
     "height": 105
    },
    "id": "3yeBOLlj_Hjn",
    "outputId": "a2284ade-a18b-463d-b95b-508aa22925e1"
   },
   "outputs": [
    {
     "data": {
      "text/html": [
       "<div>\n",
       "<style scoped>\n",
       "    .dataframe tbody tr th:only-of-type {\n",
       "        vertical-align: middle;\n",
       "    }\n",
       "\n",
       "    .dataframe tbody tr th {\n",
       "        vertical-align: top;\n",
       "    }\n",
       "\n",
       "    .dataframe thead th {\n",
       "        text-align: right;\n",
       "    }\n",
       "</style>\n",
       "<table border=\"1\" class=\"dataframe\">\n",
       "  <thead>\n",
       "    <tr style=\"text-align: right;\">\n",
       "      <th></th>\n",
       "      <th>0</th>\n",
       "      <th>1</th>\n",
       "    </tr>\n",
       "  </thead>\n",
       "  <tbody>\n",
       "    <tr>\n",
       "      <th>0</th>\n",
       "      <td>49</td>\n",
       "      <td>11</td>\n",
       "    </tr>\n",
       "    <tr>\n",
       "      <th>1</th>\n",
       "      <td>16</td>\n",
       "      <td>124</td>\n",
       "    </tr>\n",
       "  </tbody>\n",
       "</table>\n",
       "</div>"
      ],
      "text/plain": [
       "    0    1\n",
       "0  49   11\n",
       "1  16  124"
      ]
     },
     "execution_count": 20,
     "metadata": {
      "tags": []
     },
     "output_type": "execute_result"
    }
   ],
   "source": [
    "confusion_df = pd.DataFrame(conf_matrix)\n",
    "confusion_df"
   ]
  },
  {
   "cell_type": "markdown",
   "metadata": {
    "id": "HAQCxtNp_Hjo"
   },
   "source": [
    "#### Matching the Encoded Labels "
   ]
  },
  {
   "cell_type": "code",
   "execution_count": 21,
   "metadata": {
    "id": "NcbH37TG_Hjo"
   },
   "outputs": [],
   "source": [
    "labels_dict = {\n",
    "        0 : 'eclectic',\n",
    "        1 : 'pop style',\n",
    "    }"
   ]
  },
  {
   "cell_type": "code",
   "execution_count": 22,
   "metadata": {
    "id": "vJ11nwvx_Hjo"
   },
   "outputs": [],
   "source": [
    "confusion_df = confusion_df.rename(columns=labels_dict, index=labels_dict)"
   ]
  },
  {
   "cell_type": "code",
   "execution_count": 23,
   "metadata": {
    "colab": {
     "base_uri": "https://localhost:8080/",
     "height": 105
    },
    "id": "gqSqc-FT_Hjp",
    "outputId": "b3bc64d9-3242-40c9-e4a1-3e8b5d1cae72"
   },
   "outputs": [
    {
     "data": {
      "text/html": [
       "<div>\n",
       "<style scoped>\n",
       "    .dataframe tbody tr th:only-of-type {\n",
       "        vertical-align: middle;\n",
       "    }\n",
       "\n",
       "    .dataframe tbody tr th {\n",
       "        vertical-align: top;\n",
       "    }\n",
       "\n",
       "    .dataframe thead th {\n",
       "        text-align: right;\n",
       "    }\n",
       "</style>\n",
       "<table border=\"1\" class=\"dataframe\">\n",
       "  <thead>\n",
       "    <tr style=\"text-align: right;\">\n",
       "      <th></th>\n",
       "      <th>eclectic</th>\n",
       "      <th>pop style</th>\n",
       "    </tr>\n",
       "  </thead>\n",
       "  <tbody>\n",
       "    <tr>\n",
       "      <th>eclectic</th>\n",
       "      <td>49</td>\n",
       "      <td>11</td>\n",
       "    </tr>\n",
       "    <tr>\n",
       "      <th>pop style</th>\n",
       "      <td>16</td>\n",
       "      <td>124</td>\n",
       "    </tr>\n",
       "  </tbody>\n",
       "</table>\n",
       "</div>"
      ],
      "text/plain": [
       "           eclectic  pop style\n",
       "eclectic         49         11\n",
       "pop style        16        124"
      ]
     },
     "execution_count": 23,
     "metadata": {
      "tags": []
     },
     "output_type": "execute_result"
    }
   ],
   "source": [
    "confusion_df"
   ]
  },
  {
   "cell_type": "markdown",
   "metadata": {
    "id": "RfTcFIsB_Hjp"
   },
   "source": [
    "#### Creating a heatmap for the confusion matrix for display"
   ]
  },
  {
   "cell_type": "code",
   "execution_count": 24,
   "metadata": {
    "colab": {
     "base_uri": "https://localhost:8080/",
     "height": 740
    },
    "id": "rUmneMFY_Hjp",
    "outputId": "09b181b0-a060-4ee2-829f-d0cfbcf814f0"
   },
   "outputs": [
    {
     "data": {
      "image/png": "[encoded data removed]",
      "text/plain": [
       "<Figure size 1440x864 with 2 Axes>"
      ]
     },
     "metadata": {
      "needs_background": "light",
      "tags": []
     },
     "output_type": "display_data"
    }
   ],
   "source": [
    "plt.figure(figsize= (20,12))\n",
    "sns.set(font_scale = 2);\n",
    "ax = sns.heatmap(confusion_df, fmt=\"d\", annot=True, cmap=sns.cubehelix_palette(rot=-.4));\n",
    "ax.set(xlabel='Predicted Values', ylabel='Actual Values');"
   ]
  },
  {
   "cell_type": "code",
   "execution_count": 25,
   "metadata": {
    "colab": {
     "base_uri": "https://localhost:8080/"
    },
    "id": "oZ6WMkgM_Hjq",
    "outputId": "29eb322c-1e8c-4ee7-e4fe-aab8f5a2bf83"
   },
   "outputs": [
    {
     "name": "stdout",
     "output_type": "stream",
     "text": [
      "              precision    recall  f1-score   support\n",
      "\n",
      "           0       0.75      0.82      0.78        60\n",
      "           1       0.92      0.89      0.90       140\n",
      "\n",
      "    accuracy                           0.86       200\n",
      "   macro avg       0.84      0.85      0.84       200\n",
      "weighted avg       0.87      0.86      0.87       200\n",
      "\n"
     ]
    }
   ],
   "source": [
    "from sklearn.metrics import classification_report\n",
    "\n",
    "print(classification_report(np.argmax(y_test, 1),  np.argmax(predictions, 1)))"
   ]
  }
 ],
 "metadata": {
  "accelerator": "GPU",
  "colab": {
   "name": "CRNN Model with Eclectic and Pop Style target classes.ipynb",
   "provenance": []
  },
  "kernelspec": {
   "display_name": "Python 3",
   "language": "python",
   "name": "python3"
  },
  "language_info": {
   "codemirror_mode": {
    "name": "ipython",
    "version": 3
   },
   "file_extension": ".py",
   "mimetype": "text/x-python",
   "name": "python",
   "nbconvert_exporter": "python",
   "pygments_lexer": "ipython3",
   "version": "3.7.6"
  }
 },
 "nbformat": 4,
 "nbformat_minor": 1
}
